{
  "cells": [
    {
      "cell_type": "code",
      "metadata": {},
      "source": [
        "%spark.pyspark\r\n",
        "# An\u00e1lise explorat\u00f3ria com PySpark\r\n",
        "# Autor: Felipe Melo\r\n",
        "# Contexto: an\u00e1lise do dataset Olist (arquivos CSV no bucket GCS). Usamos Spark SQL + DataFrame API.\r\n"
      ],
      "outputs": [],
      "execution_count": null
    },
    {
      "cell_type": "markdown",
      "metadata": {},
      "source": [
        "%md\n",
        "# Predi\u00e7\u00e3o de Faturamento Mensal com PySpark\n",
        "\n",
        "## Contextualiza\u00e7\u00e3o do Problema\n",
        "O objetivo deste trabalho \u00e9 **prever o faturamento mensal do e-commerce** para o m\u00eas seguinte (2018-09), utilizando os dados hist\u00f3ricos de 2017-01 at\u00e9 2018-08.  \n",
        "Esse tipo de previs\u00e3o ajuda a empresa a se planejar financeiramente, prever sazonalidades e otimizar a log\u00edstica de vendas.\n",
        "\n",
        "## T\u00e9cnica Utilizada\n",
        "A t\u00e9cnica escolhida foi a **Regress\u00e3o Linear**, pois o problema envolve prever um valor **cont\u00ednuo** (receita futura) com base em vari\u00e1veis hist\u00f3ricas.  \n",
        "Al\u00e9m disso, a regress\u00e3o linear \u00e9 simples, interpret\u00e1vel e serve como baseline para comparar com outros algoritmos mais sofisticados no futuro (ex.: Random Forest Regressor).\n",
        "\n",
        "## Planejamento da Infraestrutura Spark\n",
        "O Spark foi escolhido porque permite:\n",
        "- **Escalabilidade**: processar milh\u00f5es de linhas distribu\u00eddas em m\u00faltiplos n\u00f3s.\n",
        "- **Integra\u00e7\u00e3o com SQL**: an\u00e1lise explorat\u00f3ria com consultas distribu\u00eddas.\n",
        "- **Machine Learning em larga escala**: via biblioteca `pyspark.ml`.\n",
        "\n",
        "Assim, todo o pipeline de dados (ETL \u2192 An\u00e1lise \u2192 Modelagem \u2192 Avalia\u00e7\u00e3o) pode ser feito em uma infraestrutura distribu\u00edda e escal\u00e1vel.\n"
      ],
      "outputs": [],
      "execution_count": null
    },
    {
      "cell_type": "markdown",
      "metadata": {},
      "source": [
        "%md\n",
        "# Estrutura do Notebook\n",
        "\n",
        "1. **Carregamento dos Dados**  \n",
        "   - Leitura com Spark e cria\u00e7\u00e3o de views tempor\u00e1rias.\n",
        "\n",
        "2. **An\u00e1lise Explorat\u00f3ria dos Dados (EDA)**  \n",
        "   - Consultas SQL para entender pedidos, vendedores e produtos.  \n",
        "   - Visualiza\u00e7\u00f5es gr\u00e1ficas para compreender tend\u00eancias e distribui\u00e7\u00f5es.\n",
        "\n",
        "3. **Prepara\u00e7\u00e3o dos Dados para Modelagem**  \n",
        "   - Cria\u00e7\u00e3o de vari\u00e1veis agregadas mensais (features).  \n",
        "   - Tratamento de valores nulos e sele\u00e7\u00e3o de colunas.\n",
        "\n",
        "4. **Modelagem de Machine Learning**  \n",
        "   - Divis\u00e3o em treino e teste.  \n",
        "   - Regress\u00e3o Linear para prever faturamento do m\u00eas seguinte.\n",
        "\n",
        "5. **Avalia\u00e7\u00e3o do Modelo**  \n",
        "   - M\u00e9tricas de desempenho (RMSE, R\u00b2).  \n",
        "   - Compara\u00e7\u00e3o entre predi\u00e7\u00f5es e valores reais.\n",
        "\n",
        "6. **Melhorias e Sugest\u00f5es Futuras**  \n",
        "   - Outras t\u00e9cnicas de ML.  \n",
        "   - Cria\u00e7\u00e3o de novas features.  \n",
        "   - Ajustes de hiperpar\u00e2metros.\n"
      ],
      "outputs": [],
      "execution_count": null
    },
    {
      "cell_type": "markdown",
      "metadata": {},
      "source": [
        "%md\n",
        "# Melhorias no Modelo de Predi\u00e7\u00e3o\n",
        "\n",
        "Apesar da regress\u00e3o linear fornecer um baseline inicial, h\u00e1 v\u00e1rias formas de melhorar a previs\u00e3o:\n",
        "\n",
        "1. **Testar outros algoritmos**  \n",
        "   - Random Forest Regressor (captura n\u00e3o linearidades).  \n",
        "   - Gradient Boosted Trees.  \n",
        "\n",
        "2. **Criar novas features**  \n",
        "   - Quantidade m\u00e9dia de itens por pedido.  \n",
        "   - Faturamento m\u00e9dio por categoria de produto.  \n",
        "   - Vari\u00e1veis sazonais (m\u00eas do ano, trimestre).\n",
        "\n",
        "3. **Normaliza\u00e7\u00e3o e transforma\u00e7\u00e3o de dados**  \n",
        "   - Escalonar vari\u00e1veis para melhorar converg\u00eancia.  \n",
        "\n",
        "4. **Valida\u00e7\u00e3o cruzada (Cross-Validation)**  \n",
        "   - Avaliar a robustez do modelo em diferentes parti\u00e7\u00f5es.  \n",
        "\n",
        "Essas melhorias poderiam aumentar a precis\u00e3o da previs\u00e3o e tornar o modelo mais confi\u00e1vel para uso real em planejamento estrat\u00e9gico.\n"
      ],
      "outputs": [],
      "execution_count": null
    },
    {
      "cell_type": "code",
      "metadata": {},
      "source": [
        "%spark.pyspark\r\n",
        "from pyspark.sql import functions as F\r\n",
        "from pyspark.sql.types import *"
      ],
      "outputs": [],
      "execution_count": null
    },
    {
      "cell_type": "code",
      "metadata": {},
      "source": [
        "%spark.pyspark\r\n",
        "base_path = \"gs://olist-csv-bucket/\"\r\n",
        "\r\n",
        "customers = spark.read.option(\"header\",\"true\").option(\"inferSchema\",\"true\").csv(base_path + \"olist_customers_dataset.csv\")\r\n",
        "orders = spark.read.option(\"header\",\"true\").option(\"inferSchema\",\"true\").csv(base_path + \"olist_orders_dataset.csv\")\r\n",
        "order_items = spark.read.option(\"header\",\"true\").option(\"inferSchema\",\"true\").csv(base_path + \"olist_order_items_dataset.csv\")\r\n",
        "payments = spark.read.option(\"header\",\"true\").option(\"inferSchema\",\"true\").csv(base_path + \"olist_order_payments_dataset.csv\")\r\n",
        "products = spark.read.option(\"header\",\"true\").option(\"inferSchema\",\"true\").csv(base_path + \"olist_products_dataset.csv\")\r\n",
        "sellers = spark.read.option(\"header\",\"true\").option(\"inferSchema\",\"true\").csv(base_path + \"olist_sellers_dataset.csv\")\r\n",
        "reviews = spark.read.option(\"header\",\"true\").option(\"inferSchema\",\"true\").csv(base_path + \"olist_order_reviews_dataset.csv\")\r\n",
        "\r\n",
        "\r\n",
        "\r\n"
      ],
      "outputs": [],
      "execution_count": null
    },
    {
      "cell_type": "code",
      "metadata": {},
      "source": [
        "%spark.pyspark\n",
        "customers.createOrReplaceTempView(\"customers\")\n",
        "orders.createOrReplaceTempView(\"orders\")\n",
        "order_items.createOrReplaceTempView(\"order_items\")\n",
        "payments.createOrReplaceTempView(\"payments\")\n",
        "products.createOrReplaceTempView(\"products\")\n",
        "sellers.createOrReplaceTempView(\"sellers\")\n",
        "reviews.createOrReplaceTempView(\"reviews\")"
      ],
      "outputs": [],
      "execution_count": null
    },
    {
      "cell_type": "code",
      "metadata": {},
      "source": [
        "%spark.pyspark\n",
        "#contagem de registros\n",
        "print(\"Customers:\", customers.count())\n",
        "print(\"Orders:\", orders.count())\n",
        "print(\"Order Items:\", order_items.count())\n",
        "print(\"Payments:\", payments.count())\n",
        "print(\"Products:\", products.count())\n",
        "print(\"Sellers:\", sellers.count())\n",
        "print(\"Reviews:\", reviews.count())\n"
      ],
      "outputs": [
        {
          "output_type": "stream",
          "name": "stdout",
          "text": [
            "Customers: 99441\n",
            "Orders: 99441\n",
            "Order Items: 112650\n",
            "Payments: 103886\n",
            "Products: 32951\n",
            "Sellers: 3095\n",
            "Reviews: 104162\n"
          ]
        }
      ],
      "execution_count": null
    },
    {
      "cell_type": "code",
      "metadata": {},
      "source": [
        "%spark.pyspark\r\n",
        "df_orders_status = spark.sql(\"\"\"\r\n",
        "    SELECT order_status, COUNT(*) AS total_orders\r\n",
        "    FROM orders\r\n",
        "    GROUP BY order_status\r\n",
        "    ORDER BY total_orders DESC\r\n",
        "\"\"\")\r\n",
        "df_orders_status.show()\r\n"
      ],
      "outputs": [
        {
          "output_type": "stream",
          "name": "stdout",
          "text": [
            "+------------+------------+\n",
            "|order_status|total_orders|\n",
            "+------------+------------+\n",
            "|   delivered|       96478|\n",
            "|     shipped|        1107|\n",
            "|    canceled|         625|\n",
            "| unavailable|         609|\n",
            "|    invoiced|         314|\n",
            "|  processing|         301|\n",
            "|     created|           5|\n",
            "|    approved|           2|\n",
            "+------------+------------+\n",
            "\n"
          ]
        }
      ],
      "execution_count": null
    },
    {
      "cell_type": "code",
      "metadata": {},
      "source": [
        "%spark.pyspark\r\n",
        "from pyspark.sql.functions import col, count\r\n",
        "\r\n",
        "orders.join(customers, \"customer_id\") \\\r\n",
        "      .groupBy(\"customer_state\") \\\r\n",
        "      .agg(count(\"order_id\").alias(\"total_orders\")) \\\r\n",
        "      .orderBy(col(\"total_orders\").desc()) \\\r\n",
        "      .show(10)\r\n"
      ],
      "outputs": [
        {
          "output_type": "stream",
          "name": "stdout",
          "text": [
            "+--------------+------------+\n",
            "|customer_state|total_orders|\n",
            "+--------------+------------+\n",
            "|            SP|       41746|\n",
            "|            RJ|       12852|\n",
            "|            MG|       11635|\n",
            "|            RS|        5466|\n",
            "|            PR|        5045|\n",
            "|            SC|        3637|\n",
            "|            BA|        3380|\n",
            "|            DF|        2140|\n",
            "|            ES|        2033|\n",
            "|            GO|        2020|\n",
            "+--------------+------------+\n",
            "only showing top 10 rows\n",
            "\n"
          ]
        }
      ],
      "execution_count": null
    },
    {
      "cell_type": "code",
      "metadata": {},
      "source": [
        "%spark.pyspark\r\n",
        "from pyspark.sql.functions import sum\r\n",
        "\r\n",
        "payments.groupBy(\"payment_type\") \\\r\n",
        "        .agg(sum(\"payment_value\").alias(\"total_revenue\")) \\\r\n",
        "        .orderBy(col(\"total_revenue\").desc()) \\\r\n",
        "        .show()\r\n"
      ],
      "outputs": [
        {
          "output_type": "stream",
          "name": "stdout",
          "text": [
            "+------------+--------------------+\n",
            "|payment_type|       total_revenue|\n",
            "+------------+--------------------+\n",
            "| credit_card|1.2542084189999508E7|\n",
            "|      boleto|  2869361.2699999996|\n",
            "|     voucher|  379436.87000000046|\n",
            "|  debit_card|  217989.79000000018|\n",
            "| not_defined|                 0.0|\n",
            "+------------+--------------------+\n",
            "\n"
          ]
        }
      ],
      "execution_count": null
    },
    {
      "cell_type": "code",
      "metadata": {},
      "source": [
        "%spark.pyspark\r\n",
        "df_revenue_product = spark.sql(\"\"\"\r\n",
        "    SELECT \r\n",
        "        oi.product_id,\r\n",
        "        SUM(oi.price) AS total_revenue\r\n",
        "    FROM order_items oi\r\n",
        "    GROUP BY oi.product_id\r\n",
        "    ORDER BY total_revenue DESC\r\n",
        "    LIMIT 10\r\n",
        "\"\"\")\r\n",
        "df_revenue_product.show()\r\n"
      ],
      "outputs": [
        {
          "output_type": "stream",
          "name": "stdout",
          "text": [
            "+--------------------+------------------+\n",
            "|          product_id|     total_revenue|\n",
            "+--------------------+------------------+\n",
            "|bb50f2e236e5eea01...|           63885.0|\n",
            "|6cdd53843498f9289...| 54730.20000000005|\n",
            "|d6160fb7873f18409...|48899.340000000004|\n",
            "|d1c427060a0f73f6b...| 47214.51000000006|\n",
            "|99a4788cb24856965...|43025.560000000085|\n",
            "|3dd2a17168ec895c7...| 41082.60000000005|\n",
            "|25c38557cf793876c...| 38907.32000000001|\n",
            "|5f504b3a1c75b73d6...|37733.899999999994|\n",
            "|53b36df67ebb7c415...| 37683.42000000001|\n",
            "|aca2eb7d00ea1a7b8...| 37608.90000000007|\n",
            "+--------------------+------------------+\n",
            "\n"
          ]
        }
      ],
      "execution_count": null
    },
    {
      "cell_type": "code",
      "metadata": {},
      "source": [
        "%spark.pyspark\r\n",
        "df_monthly_revenue = spark.sql(\"\"\"\r\n",
        "    SELECT \r\n",
        "        DATE_FORMAT(o.order_purchase_timestamp, 'yyyy-MM') AS year_month,\r\n",
        "        SUM(oi.price) AS total_revenue\r\n",
        "    FROM orders o\r\n",
        "    JOIN order_items oi ON o.order_id = oi.order_id\r\n",
        "    GROUP BY DATE_FORMAT(o.order_purchase_timestamp, 'yyyy-MM')\r\n",
        "    ORDER BY year_month DESC\r\n",
        "\"\"\")\r\n",
        "\r\n",
        "df_monthly_revenue.show(20)\r\n"
      ],
      "outputs": [
        {
          "output_type": "stream",
          "name": "stdout",
          "text": [
            "+----------+------------------+\n",
            "|year_month|     total_revenue|\n",
            "+----------+------------------+\n",
            "|   2018-09|             145.0|\n",
            "|   2018-08| 854686.3300000085|\n",
            "|   2018-07| 895507.2200000074|\n",
            "|   2018-06|  865124.310000007|\n",
            "|   2018-05| 996517.6800000133|\n",
            "|   2018-04| 996647.7500000133|\n",
            "|   2018-03| 983213.4400000148|\n",
            "|   2018-02| 844178.7100000086|\n",
            "|   2018-01|  950030.360000015|\n",
            "|   2017-12| 743914.1700000004|\n",
            "|   2017-11|1010271.3700000155|\n",
            "|   2017-10| 664219.4299999973|\n",
            "|   2017-09| 624401.6899999977|\n",
            "|   2017-08| 573971.6799999981|\n",
            "|   2017-07| 498031.4799999967|\n",
            "|   2017-06| 433038.5999999939|\n",
            "|   2017-05| 506071.1399999948|\n",
            "|   2017-04| 359927.2299999956|\n",
            "|   2017-03|374344.29999999516|\n",
            "|   2017-02| 247303.0199999985|\n",
            "+----------+------------------+\n",
            "only showing top 20 rows\n",
            "\n"
          ]
        }
      ],
      "execution_count": null
    },
    {
      "cell_type": "code",
      "metadata": {},
      "source": [
        "%spark.pyspark\r\n",
        "df_orders_status = spark.sql(\"\"\"\r\n",
        "    SELECT \r\n",
        "        order_status, \r\n",
        "        COUNT(*) AS total_pedidos\r\n",
        "    FROM orders\r\n",
        "    GROUP BY order_status\r\n",
        "    ORDER BY total_pedidos DESC\r\n",
        "\"\"\")\r\n",
        "\r\n",
        "df_orders_status.show()\r\n"
      ],
      "outputs": [
        {
          "output_type": "stream",
          "name": "stdout",
          "text": [
            "+------------+-------------+\n",
            "|order_status|total_pedidos|\n",
            "+------------+-------------+\n",
            "|   delivered|        96478|\n",
            "|     shipped|         1107|\n",
            "|    canceled|          625|\n",
            "| unavailable|          609|\n",
            "|    invoiced|          314|\n",
            "|  processing|          301|\n",
            "|     created|            5|\n",
            "|    approved|            2|\n",
            "+------------+-------------+\n",
            "\n"
          ]
        }
      ],
      "execution_count": null
    },
    {
      "cell_type": "code",
      "metadata": {},
      "source": [
        "%spark.pyspark\r\n",
        "df_sellers_state = spark.sql(\"\"\"\r\n",
        "    SELECT \r\n",
        "        seller_state, \r\n",
        "        COUNT(*) AS total_vendedores\r\n",
        "    FROM sellers\r\n",
        "    GROUP BY seller_state\r\n",
        "    ORDER BY total_vendedores DESC\r\n",
        "\"\"\")\r\n",
        "\r\n",
        "df_sellers_state.show()\r\n"
      ],
      "outputs": [
        {
          "output_type": "stream",
          "name": "stdout",
          "text": [
            "+------------+----------------+\n",
            "|seller_state|total_vendedores|\n",
            "+------------+----------------+\n",
            "|          SP|            1849|\n",
            "|          PR|             349|\n",
            "|          MG|             244|\n",
            "|          SC|             190|\n",
            "|          RJ|             171|\n",
            "|          RS|             129|\n",
            "|          GO|              40|\n",
            "|          DF|              30|\n",
            "|          ES|              23|\n",
            "|          BA|              19|\n",
            "|          CE|              13|\n",
            "|          PE|               9|\n",
            "|          PB|               6|\n",
            "|          MS|               5|\n",
            "|          RN|               5|\n",
            "|          MT|               4|\n",
            "|          RO|               2|\n",
            "|          SE|               2|\n",
            "|          AM|               1|\n",
            "|          AC|               1|\n",
            "+------------+----------------+\n",
            "only showing top 20 rows\n",
            "\n"
          ]
        }
      ],
      "execution_count": null
    },
    {
      "cell_type": "code",
      "metadata": {},
      "source": [
        "%spark.pyspark\r\n",
        "df_top_products = spark.sql(\"\"\"\r\n",
        "    SELECT \r\n",
        "        product_category_name, \r\n",
        "        COUNT(*) AS total_produtos\r\n",
        "    FROM products\r\n",
        "    GROUP BY product_category_name\r\n",
        "    ORDER BY total_produtos DESC\r\n",
        "    LIMIT 10\r\n",
        "\"\"\")\r\n",
        "\r\n",
        "df_top_products.show()\r\n"
      ],
      "outputs": [
        {
          "output_type": "stream",
          "name": "stdout",
          "text": [
            "+---------------------+--------------+\n",
            "|product_category_name|total_produtos|\n",
            "+---------------------+--------------+\n",
            "|      cama_mesa_banho|          3029|\n",
            "|        esporte_lazer|          2867|\n",
            "|     moveis_decoracao|          2657|\n",
            "|         beleza_saude|          2444|\n",
            "| utilidades_domest...|          2335|\n",
            "|           automotivo|          1900|\n",
            "| informatica_acess...|          1639|\n",
            "|           brinquedos|          1411|\n",
            "|   relogios_presentes|          1329|\n",
            "|            telefonia|          1134|\n",
            "+---------------------+--------------+\n",
            "\n"
          ]
        }
      ],
      "execution_count": null
    },
    {
      "cell_type": "code",
      "metadata": {},
      "source": [
        "%spark.pyspark\n",
        "df_monthly_revenue = spark.sql(\"\"\"\n",
        "    SELECT \n",
        "        DATE_FORMAT(o.order_purchase_timestamp, 'yyyy-MM') AS year_month,\n",
        "        SUM(oi.price) AS total_revenue\n",
        "    FROM orders o\n",
        "    JOIN order_items oi ON o.order_id = oi.order_id\n",
        "    GROUP BY DATE_FORMAT(o.order_purchase_timestamp, 'yyyy-MM')\n",
        "    ORDER BY year_month asc\n",
        "\"\"\")\n",
        "\n",
        "df_monthly_revenue.show(20)\n"
      ],
      "outputs": [
        {
          "output_type": "stream",
          "name": "stdout",
          "text": [
            "+----------+------------------+\n",
            "|year_month|     total_revenue|\n",
            "+----------+------------------+\n",
            "|   2016-09|            267.36|\n",
            "|   2016-10| 49507.66000000009|\n",
            "|   2016-12|              10.9|\n",
            "|   2017-01|120312.87000000032|\n",
            "|   2017-02| 247303.0199999985|\n",
            "|   2017-03|374344.29999999516|\n",
            "|   2017-04| 359927.2299999956|\n",
            "|   2017-05| 506071.1399999948|\n",
            "|   2017-06| 433038.5999999939|\n",
            "|   2017-07| 498031.4799999967|\n",
            "|   2017-08| 573971.6799999981|\n",
            "|   2017-09| 624401.6899999977|\n",
            "|   2017-10| 664219.4299999973|\n",
            "|   2017-11|1010271.3700000155|\n",
            "|   2017-12| 743914.1700000004|\n",
            "|   2018-01|  950030.360000015|\n",
            "|   2018-02| 844178.7100000086|\n",
            "|   2018-03| 983213.4400000148|\n",
            "|   2018-04| 996647.7500000133|\n",
            "|   2018-05| 996517.6800000133|\n",
            "+----------+------------------+\n",
            "only showing top 20 rows\n",
            "\n"
          ]
        }
      ],
      "execution_count": null
    },
    {
      "cell_type": "code",
      "metadata": {},
      "source": [
        "\n",
        "%spark.pyspark\n",
        "# Receita por ano-m\u00eas\n",
        "df_monthly = spark.sql(\"\"\"\n",
        "    SELECT \n",
        "        DATE_FORMAT(o.order_purchase_timestamp, 'yyyy-MM') AS year_month,\n",
        "        SUM(oi.price) AS total_revenue\n",
        "    FROM orders o\n",
        "    JOIN order_items oi ON o.order_id = oi.order_id\n",
        "    GROUP BY DATE_FORMAT(o.order_purchase_timestamp, 'yyyy-MM')\n",
        "    ORDER BY year_month\n",
        "\"\"\")\n",
        "\n",
        "df_filtered = df_monthly.filter(\n",
        "    (df_monthly.year_month >= \"2017-01\") & (df_monthly.year_month <= \"2018-08\")\n",
        ")\n",
        "\n",
        "df_filtered.show(10)\n"
      ],
      "outputs": [
        {
          "output_type": "stream",
          "name": "stdout",
          "text": [
            "+----------+------------------+\n",
            "|year_month|     total_revenue|\n",
            "+----------+------------------+\n",
            "|   2017-01|120312.87000000032|\n",
            "|   2017-02| 247303.0199999985|\n",
            "|   2017-03|374344.29999999516|\n",
            "|   2017-04| 359927.2299999956|\n",
            "|   2017-05| 506071.1399999948|\n",
            "|   2017-06| 433038.5999999939|\n",
            "|   2017-07| 498031.4799999967|\n",
            "|   2017-08| 573971.6799999981|\n",
            "|   2017-09| 624401.6899999977|\n",
            "|   2017-10| 664219.4299999973|\n",
            "+----------+------------------+\n",
            "only showing top 10 rows\n",
            "\n"
          ]
        }
      ],
      "execution_count": null
    },
    {
      "cell_type": "code",
      "metadata": {},
      "source": [
        "%spark.pyspark\r\n",
        "import matplotlib.pyplot as plt\r\n",
        "\r\n",
        "# Converter para Pandas para plotar\r\n",
        "pdf_revenue = df_monthly_revenue.toPandas()\r\n",
        "\r\n",
        "plt.figure(figsize=(10,5))\r\n",
        "plt.plot(pdf_revenue[\"year_month\"], pdf_revenue[\"total_revenue\"], marker=\"o\")\r\n",
        "plt.xticks(rotation=45)\r\n",
        "plt.title(\"Faturamento Mensal (2017-01 a 2018-08)\")\r\n",
        "plt.xlabel(\"Ano-M\u00eas\")\r\n",
        "plt.ylabel(\"Receita (R$)\")\r\n",
        "plt.grid(True)\r\n",
        "plt.show()\r\n",
        "\r\n"
      ],
      "outputs": [
        {
          "output_type": "display_data",
          "data": {
            "text/html": "<div style='width:auto;height:auto'><img src=data:image/png;base64,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 style='width=auto;height:auto'><div>\n"
          },
          "metadata": {}
        }
      ],
      "execution_count": null
    },
    {
      "cell_type": "code",
      "metadata": {},
      "source": [
        "%spark.pyspark\r\n",
        "from pyspark.sql.functions import col, date_format, count\r\n",
        "\r\n",
        "\r\n",
        "df_orders_monthly = orders.withColumn(\"year_month\", date_format(col(\"order_purchase_timestamp\"), \"yyyy-MM\"))\r\n",
        "\r\n",
        "\r\n",
        "df_monthly_orders = df_orders_monthly.groupBy(\"year_month\") \\\r\n",
        "                                     .agg(count(\"order_id\").alias(\"num_orders\")) \\\r\n",
        "                                     .orderBy(\"year_month\")\r\n",
        "\r\n",
        "\r\n",
        "pdf_orders = df_monthly_orders.toPandas()\r\n",
        "\r\n",
        "\r\n",
        "\r\n",
        "\r\n",
        "plt.figure(figsize=(10,5))\r\n",
        "plt.plot(pdf_orders[\"year_month\"], pdf_orders[\"num_orders\"], marker=\"o\")\r\n",
        "plt.xticks(rotation=45)\r\n",
        "plt.title(\"N\u00famero de Pedidos Mensais\")\r\n",
        "plt.xlabel(\"Ano-M\u00eas\")\r\n",
        "plt.ylabel(\"Quantidade de Pedidos\")\r\n",
        "plt.grid(True)\r\n",
        "plt.show()\r\n"
      ],
      "outputs": [
        {
          "output_type": "display_data",
          "data": {
            "text/html": "<div style='width:auto;height:auto'><img src=data:image/png;base64,iVBORw0KGgoAAAANSUhEUgAAAtAAAAFoCAYAAAB+JswZAAAAOXRFWHRTb2Z0d2FyZQBNYXRwbG90bGliIHZlcnNpb24zLjguNCwgaHR0cHM6Ly9tYXRwbG90bGliLm9yZy8fJSN1AAAACXBIWXMAAAsTAAALEwEAmpwYAAB1D0lEQVR4nO3deViU5f4G8HvYhm0AUUB2NRQVURGXXErSlFwyUyMtEz2muZy0RVOz32lX0uq0mYWZaaaUZnrSAhVFy33BDTdcgQEBhWFfZ57fH8gkAsLADDPD3J/r6krembnf7wgvfH143ueRCCEEiIiIiIioXsz0XQARERERkTFhA01EREREpAE20EREREREGmADTURERESkATbQREREREQaYANNRERERKQBNtBERERERBpgA01EREREpAE20EREREREGmADTURERESkATbQREREREQaYANNRERERKQBNtBERERERBpgA01EREREpAE20EREREREGmADTURERESkATbQREREREQaYANNRERERKQBNtBERERERBpgA01EREREpAE20EREREREGmADTURERESkATbQREREREQaYANNRERERKQBNtBERERERBpgA01EREREpAE20ERksPLy8tC+fXucPn1a36XUy40bNyCRSFBeXm4wNQwbNgxr166t13Obu6SkJNjb20OpVOq7FCIycmygiahJtWnTBm5ubigoKFAf++677xASElLtuQsXLsS8efPQrVu3JqxQP9555x1YWlrC3t4eTk5O6NevHw4dOtTo3D///BPh4eFaqLB+4uLiIJFIMGbMmCrHT58+DYlEUuPnuan4+PggPz8f5ubmequBiJoHNtBE1OTKy8vx+eefP/A5RUVF6NKlC1566aUmqgp6H4l99tlnkZ+fj8zMTAwYMABjxoyBEEKvNTWEi4sLDh48iDt37qiPrV27Fh06dNBjVURE2sMGmoia3Pz58/Hxxx9DoVBUe6xyWoGlpSVmzpwJAAgJCcF3330HAPjhhx/Qv39/vPrqq3ByckK7du1w8OBB/PDDD/D29oarq2uVKQslJSWYN28efHx84ObmhhkzZqCoqAhAxWipl5cXPvroI7Ru3RpTpkxBSUkJXnnlFXh4eMDDwwOvvPIKSkpKanwfSqUS8+bNQ6tWrdCuXTvs2LGjyuM5OTmYOnUq3N3d4enpibfeeqte0wcsLS0RHh6OW7du4c6dOw/MqauGe//u6npuamoqRo0aBWdnZ/j5+WHVqlXqx44ePYqePXvCwcEBbm5ueO2112qt38rKCqNHj0ZUVJT6vL/88guef/75Ks+7ePEihgwZAmdnZ/j7++OXX35RPzZ58mTMnj0bI0aMgEwmQ58+fXD16lUAgBACr776KlxdXeHo6IiuXbvi3LlzAIAdO3YgKCgIDg4O8Pb2xjvvvKPOvH/Kyg8//IB27dpBJpOhbdu2+Omnn+r83BARAWygiUgPevbsiZCQEHz88ccNev2RI0fQtWtX3LlzB8899xzGjx+PY8eO4cqVK1i/fj3+/e9/Iz8/HwCwYMECXL58GadOncKVK1cgl8vx3nvvqbNu3bqFrKws3Lx5E5GRkfjwww9x+PBhnDp1CqdPn8bRo0fxwQcf1FjHqlWrsH37dsTHx+P48ePYvHlzlcfDw8NhYWGBK1euID4+Hjt37lQ3sw9SUlKCH374AV5eXmjVqtUDc+qqQZN6J0yYAC8vL6SmpmLz5s148803ERsbCwCYO3cu5s6di9zcXFy9ehVhYWEPfA+TJk3CunXrAAAxMTEICAiAh4eH+vGCggIMGTIEzz33HDIyMrBx40bMmjULCQkJ6uds3LgRb7/9NrKzs+Hn54fFixcDAHbu3In9+/fj8uXLUCgU+Pnnn9GyZUsAgJ2dHdatWweFQoEdO3Zg5cqV2Lp1a7X6CgoKMGfOHPz555/Iy8vDwYMH0b179we+JyIiNUFE1IR8fX3Frl27xNmzZ4WDg4PIyMgQq1atEgMHDhRCCHH9+nUBQJSVlalfM3DgQLFq1SohhBBr1qwRfn5+6sfOnDkjAIhbt26pjzk7O4v4+HihUqmEra2tuHLlivqxgwcPijZt2gghhNi7d6+wtLQURUVF6sfbtWsnduzYof44Ojpa+Pr61vheHnvsMbFy5Ur1xzExMerab926JaysrERhYaH68Q0bNoiQkJAas95++21haWkpHB0dhYuLi3jsscfE8ePH68x5UA33/9096LlJSUnCzMxM5Obmqh9fuHChCA8PF0II8cgjj4j//Oc/IjMzs8b6K+3du1d4enoKIYTw8/MTFy9eFM8++6xYv359lc9zVFSUGDBgQJXXTp8+XbzzzjtCCCHCw8PF1KlT1Y/t2LFD+Pv7CyGEiI2NFe3btxeHDh0SSqXygfXMnTtXvPLKK0KIql9b+fn5wtHRUWzevLnK3y0RUX1wBJqI9KJLly4YOXIkIiIiNH6tm5ub+s82NjY1HqucS1xYWIjg4GA4OTnByckJTzzxBDIzM9XPdXFxgbW1tfrj1NRU+Pr6qj/29fVFampqjXWkpqbC29u7ynMr3bx5E2VlZXB3d1ef+6WXXkJGRkat7yssLAwKhQIZGRnYs2cPgoOD68x5UA2a1JuamgpnZ2fIZLIqj8vlcgDA6tWrcfnyZXTs2BG9evXC9u3baz1PpRdeeAFfffUV9u7di6effrrKYzdv3sSRI0fU78nJyQk//fQTbt26pX5O69at1X+2tbVV/1Zh0KBB+Pe//43Zs2fDzc0N06dPR25uLoCK30489thjcHFxgaOjI7755hvcvn27Wm12dnb4+eef8c0338Dd3R0jRozAxYsX63xPREQAp3AQkR69++67WLVqlbpJAyoaGwAoLCxUH7u3qdJEq1atYGNjg4SEBCgUCigUCuTk5KgbMQCQSCRVXuPh4YGbN2+qP05KSqoy9eBe7u7uSE5OrvLcSt7e3pBKpbh9+7b63Lm5uVWmKNRHXTkPqkGTej08PJCVlYW8vLwqj3t6egIA2rdvj40bNyIjIwMLFizAuHHjqqykUpMXXngBX3/9NYYPHw5bW9tq72vgwIHq96RQKJCfn4+VK1fW428FmDNnDk6cOIGEhARcvnwZy5cvBwA899xzGDVqFJKTk5GTk4MZM2bUeiNmaGgodu3ahbS0NHTs2BHTpk2r17mJiNhAE5He+Pn54dlnn8UXX3yhPubi4gJPT0+sX78eSqUS33//vfrmMU2ZmZlh2rRpePXVV9UjtnK5HDExMbW+ZsKECfjggw+QmZmJ27dv47333sPEiRNrfG5YWBi++OILpKSkIDs7u8pouru7O4YOHYrXX38dubm5UKlUuHr1Kvbt26fRe6gr50E1aFKvt7c3+vXrh0WLFqG4uBhnzpzB6tWr1Tf+rV+/HpmZmTAzM4OTkxMA1LkcXNu2bbFv3z58+OGH1R4bOXIkLl++jB9//BFlZWUoKyvDsWPHcOHChTr/To4dO4YjR46grKwMdnZ2sLa2VteSl5cHZ2dnWFtb4+jRo9iwYUONGenp6fjf//6HgoICSKVS2Nvbc3k7Iqo3NtBEpFf/+c9/qo1krlq1CsuXL0fLli2RkJCAfv36NTj/o48+gp+fHx5++GE4ODjg8ccfx6VLl2p9/ltvvYWePXuia9euCAwMRI8ePfDWW2/V+Nxp06YhNDQU3bp1Q48ePaqtfbxu3TqUlpaic+fOaNGiBcaNG4e0tDSN38ODcuqqQZN6N27ciBs3bsDDwwNPP/003n33XQwZMgQAEB0djYCAANjb22Pu3LmIioqqMvWlNgMGDKhxBF8mk2Hnzp2IioqCh4cHWrdujQULFtS64sm9cnNzMW3aNLRo0QK+vr5o2bIl5s2bBwD4+uuv8Z///AcymQzvvfderTc7qlQqfPLJJ/Dw8ICzszP27duHr7/+us5zExEBgETU9rstIiIiIiKqhiPQREREREQaYANNRERERKQBNtBERERERBpgA01EREREpAE20EREREREGrDQdwGmolWrVmjTpo1Oz1FQUKDehMLQc5nJTEPPZaZpZuoql5mmmamrXF3Veq8bN27UuIsn3aXnrcRNRnBwsM7PsXfvXqPJZSYzDT2XmaaZqatcZppmpq5ydVXrvZqibzFmnMJBRERERKQBNtBERERERBpgA01EREREpAE20EREREREGmADTURERESkATbQREREREQaYANNRERERKQBNtBERERERBrgToRERAQA2Bovx/KYS5AriuB5eA/mh/pjdJCnvssiIjI4bKCJiAhb4+VYtOUsisqUAAC5ogiLtpwFADbRRET34RQOIiLC8phL6ua5UlGZEstjLumpIiIiw8UGmoiIkKoo0ug4EZEpYwNNRETwcLLR6DgRkSljA01ERJgf6g+pRdUfCTaWZpgf6q+nioiIDBcbaCIiwuggTwzr0rrKsX8Pas8bCImIasAGmoiIAADlKgEPR2t88ZgtzCRAUamy7hcREZkgNtBERAQAOJWsQJBPCzhIJej7UEtsP5MKIYS+yyIiMjhsoImICBl5xUjJLkKQjxMAYGRXD9y4U4iE1Fz9FlaDrfFy9I/Yg8nRBegfsQdb4+X6LomITAwbaCIiwqkkBQCgu7cTAOCJgNYwN5Ng+5k0/RVVg8oNX+R3l9er3PCFTTQRNSU20EREhFPJCliYSdDF0xEA0MLOCv39WhncNA5j2/CFo+VEzRMbaCIiQnySAp3cHWBtaa4+NrKrO1Kyi3AmJUePlVVlTBu+cLScqPliA01EZOKUKoEzKQr1/OdKoZ1bw9Jcgu1nUvVTWA1q29jFydayiSupm7GNlhNR/bGBJiIycYkZeSgoVVZroB1tLfFIexfsOJNmMNM45of6w9JcUuWYmQTILizDp7suG0ydANQjz/dLVRQZVJ1EpDk20EREJi5efQNhi2qPjQh0R2pOMU7efY6+jQ7yRGsHa1iYVTTRnk42WDa2K54J9sIXsYl45edTKC7T7/rVxWVKvPnb2VofFwCGff4Xoo4mca1tIiNloe8CiIhIv04lKeBka4k2LW2rPTYkwA1WW8yw40wagn2rN9hN7Zw8B8nZRXjnyc5oU3YTISEhAICxwV5o08oOy2MuQZ5dhMhJPeFsZ9Xk9SXdKcSsDSdwTp6LwR1dceDqbRSXqdSPW1uaYXR3T5xOycHCLWcREX0R43v54IW+vvCsZXoKERkekxmBvnTpErp3767+z8HBAZ999hmysrIwZMgQtG/fHkOGDEF2drb6NUuXLoWfnx/8/f0RExOjPn7ixAkEBgbCz88Pc+bM4a/iiMioxSdno7u3EyQSSbXHHKwtMdDfBX+cTYNKpf/vdVHHkiC1MMPTQV5VjkskEsx+zA9fPReEM/IcPP31AVzNzG/S2nYm3MKIL/9C0p1CrJrUE6sn90LEmK7qxtjTyQYRY7oiYmxX/DFnAH6e/jD6tmuJyP1X8chHezBz/QkcuXaHP1OIjIDJNND+/v44deoUTp06hRMnTsDW1hZPP/00IiIiMHjwYCQmJmLw4MGIiIgAAJw/fx5RUVFISEhAdHQ0Zs2aBaWy4ldtM2fORGRkJBITE5GYmIjo6Gh9vjUiogbLKy5DYkY+gmqYvlFpZFd33MotxvGb2bU+pykUlpZja3wqRgS6w7GWmwZHdvVA1PSHkV9cjjFfH8Shq3d0XleZUoWlf1zA9B9PoE1LO+yY8wiGdHYDUDHl5MDCQfjhCTscWDgIo4M8AVQ0/H3atcTKicHY/8ZjmP7oQzh07Q6ejTyM4V/8jV+OJet9KgoR1c5kGuh7xcbG4qGHHoKvry+2bduG8PBwAEB4eDi2bt0KANi2bRvGjx8PqVSKtm3bws/PD0ePHkVaWhpyc3PRt29fSCQSTJo0Sf0aIiJjcyYlB0Kg2g2E9xrcyQ1SCzPs0PNqHNvPpCG/pBwT+vg88Hk9fFpg6+z+cJFJMen7I9h8IkVnNd3KKcZzqw7j2/3XMPFhH2ya0RfeztWnwjyIVwtbLBzWEYcWDkbEmEAIIfDGr2fQd2kslkVfNMgl+ohMnUk20FFRUZgwYQIAID09He7u7gAAd3d3ZGRkAADkcjm8vb3Vr/Hy8oJcLodcLoeXl1e140RExig+qWJUudvdHQhrYi+1wGP+rvjj3C0o9TiNY+PRJPi52qNnPeZiezvb4teZ/dC7rTPmbTqNj2MuaX0KyoErtzHii7+QkJqLz8d3xwejA6uso60pGytzjO/tgz/nPoKN0x5G77bO+GbfVTyybC9m/3QSx25kQQjBzVmIDIBEmNhkq9LSUnh4eCAhIQFubm5wcnKCQqFQP96iRQtkZ2dj9uzZ6Nu3LyZOnAgAmDp1KoYPHw4fHx8sWrQIu3fvBgD89ddfWLZsGX7//fdq54qMjERkZCQAICUlBVFRUTp9b/n5+bC3tzeKXGYy09BzTSXzsxPFSC9UYekj/4ya1pR5NK0cX58uwYJe1ujUUvMmsbF1Juep8H8HijChoxVC21jWO7NcJbDufCn2p5Sjd2tzvBgohZV59bnemtSqEgLbr5Xht8QyuNtJ8O8ga3jYP3g8qqHvP7NQhT3J5diXXIbCcqClNaAoAZT3/OS2MgMmd7FCP4/Gr4VtiF+jxpypq1xd1XqvefPm4fjx4zo9h1ETJmbr1q1iyJAh6o87dOggUlNThRBCpKamig4dOgghhFiyZIlYsmSJ+nlDhw4VBw8eFKmpqcLf3199fMOGDWL69Ol1njc4OFhbb6FWe/fuNZpcZjLT0HNNIVOlUoke7+0Ur/18qs7MgpIy0fGtP8WbW8406FyNfe9vbzsn2r/5h7iTX6JxpkqlEt/EXRG+C7aLp1f8LW7nFT/w+Q/KvZNfIiatPiJ8F2wXczeeFPnFZfWqobHvv6CkTPx0+KZ4aNEO4btge7X/ur8bIw4kZoorGXn1rulev51MEf2WxgrfBdtFv6Wx4reTKY2q916G9nXflJm6ytVVrfdqir7FmJncMnYbN25UT98AgFGjRmHt2rVYuHAh1q5di6eeekp9/LnnnsNrr72G1NRUJCYmonfv3jA3N4dMJsPhw4fRp08frFu3Di+//LK+3g4RUYOlZBfhTkHpA+c/V7K1ssCgTq6IPncL744KgIV5080ALC5TYsvJFDzRpXWDlqaTSCR4aeBD8HG2xSs/n8Lorw9gzeRe8HOVaZRzMikbs386iTv5pfjw6S54rrdPjSuX6IKtlQWe6+ODxbWsL51dWIbnvjui/theagE3BylaO1rDzaHiv9aV/3e0hpuDFC72UliYm6m3HK/cNbFyy3EA6pseiagqk2qgCwsLsWvXLnz77bfqYwsXLkRYWBhWr14NHx8fbNq0CQAQEBCAsLAwdO7cGRYWFlixYgXMzSt+bbly5UpMnjwZRUVFGDZsGIYNG6aX90NE1Bgn785/rk8DDQBPdnXHjjNpOHwtCwPat9JhZVX9cTYNucXlGN/bu+4nP8CwQHe4O9ngxbXH8fTXB/HNxGD096v7fQghsObADSz54wLcnazx68x+CPRybFQtDeXhZFPjDoeuMik+G98d6bnFSM8twa2cYqTnFuNWbjGOXMtCem4xyu+bA24mAVrZS5FdWIoyZdXHKrccZwNNVDOTaqBtbW1x507VJY1atmyJ2NjYGp+/ePFiLF68uNrxnj174ty5czqpkYioqcQnKWBjaQ5/t/qNxIb4u8LOyhw7zqY2aQMddTQZbVraom+7lo3O6u7thK2z++FfPxxD+PdH8eHTXfBsr9pX9cgrLsOCX8/gj7O38HgnN3zyTLdal9BrCvND/auMFgOAjaU53hzeCf0eqv1zolIJ3CkovdtgVzTW6TkVzfbPx5NrfA1X/yCqnUk10ERE9I9TyQoEejnWezqGtaU5Hu/shj/P3cJ7T3WBZRNM47iSkY+jN7KwcFhHrU2X8Gphi80z+2H2Tyex4NezuH67EG+E+sPMrGr+hbRczPrpJJKyCrFoWEdMf7Rdk03ZqE3liPDymEuQK4rg6WSD+aH+dY4Um5lJ4CKTwkUmRRfPqqPnf1+5XeOotgd3RiSqFRtoIiITVFKuxPnUXEzp30aj140IdMe2U6k4cOU2QvxddVPcPaKOJsHSXIJxwV51P1kDDtaWWDO5F/7zvwR8s+8qkrIK8Ji/Kz7bnQi5oghO+3cir6gMLe2l6iXlDMXoIE+MDvJEXFyceivzxqhpVBsAXnykbaOziZork1wHmojI1J1PzUWpUlXv+c+VBvq7QCa1wI4zabop7B4l5Ur8ejIFQzq7oZW9VOv5FuZm+HB0F7w1ohP+OHsLb/x6Rj0SqygsgwDw70F+BtU868LoIE8sHROo3nLcVSaF1EKCn44kQVFYqufqiAwTG2giIhMUn6QAAHR/wBbeNZFamGNIgBtiEm6htFylg8r+EZOQjuzCMkzo/eCdBxtDIpHgxUfawdnOCvfviqASwLf7runs3Ibk3i3Hjy5+HD9M6YOkO4WYuvY4txQnqgEbaCIiExSfrIC7Y8WSZpoa2dUducXl+PtKpg4q+0fU0SR4O9ug/wNujtOW7IKaR1pN9Ua6vg+1xH+f7Y6TSdmYszFerztQEhkiNtBERCboVHK2xtM3Kg3wc4GDtQW2n9bdNI4btwtw8OodPNvTu9rNfbpQ2w1zpnwj3Yiu7nh7ZGfsPJ+O/9t2DsK0Ni4meiA20EREJuZ2fgmSs4rQ3dupQa+3sjBDaEBr7DqfrrNf70cdS4a5mQTP9Gzc2s/1NT/UHzaWVbcot7E0x/xQ/yY5v6Ga3L8tZgx8CBuOJOHLPVf0XQ6RwWADTURkYk7dnf8c5KPZ/Od7jezmgbyScuy/rP1pHKXlKmw+kYxBHV3h5qD5FJOGuP9GOk8nGywdE8iNRAAseMIfY3p44tNdlxF1NEnf5RAZBC5jR0RkYuKTs2FuJkEXj4bvptfvoZZoYWuJHWfTMDSgtRarA2IvpON2fime0+HNgzXR9vJwzYVEIsFHY7vidn4pFm89BxeZFIM7uem7LK3ZGi//Z13tw3vqta42EUegiYhMTHySAp3cZbCxMq/7ybWwNDfDE11aY7cOpnFsOJoED0drPNrBRau51HCW5mZY+XwPBHg4YPaGk+pt4I3d1ng5Fm05q16+UK4owqItZ7E1Xq7nysjQsYEmIjIhSpXAmZQcBGm4fF1NRnb1QEGpEnsvZmihsgrJWYX4+8pthPXyhnkT3DxI9WcntcD3k3vBzcEaU384hquZ+fouqdGWx1yqtoFMUZkSy2Mu6akiMhZsoImITMiVjHzkl5Q3+AbCe/Vp64yWdlbYflZ7q3H8fCwZEgBhTXTzIGmmlb0U6/7VG2YSCSatPoqM3GJ9l9RgF2/l1riFOWC6yxdS/bGBJiIyIaeSK3713tAl7O5lYW6GYYGtsedCBgpLyxudV65U4ZfjyQjxdzXp5eMMnW9LO6yZ0gvZhaUIX3MMecVl+i6p3pLuFOKrPYkY+t99eOKzv2p9Hr/+qC5soImITEh8kgKONpZo28pOK3kjAj1QVKbEHi1M49hzMQMZeSUY34ujz4auq5cTVk4MRmJ6HmasP4GScsPdrTA9txir/76Op1YcwKPL9+LjnZfhYG2J954KwPujA7h8ITUIV+EgIjIh8UkKdPd2gkSinfnFvds6w0UmxfbTaRjZ1aNRWVHHkuEqk2JQR1et1Ea6NbCDC5aN64rXfjmNeZvO4PNnuzfJpjf1oSgsxZ/nbuF/p1Jx+PodCAF0dnfAwmEd8WQ3D/VyhQAgk1rio+iLSMsphqONBd4d1YWrcFCd2EATEZmI/JJyXM7Iw7BA7S07Z24mwfAurRF1LBn5JeWwlzbsx0qqoghxlzIwK8QPFub85aixGNPDC+m5Jfgo+iLcZFK8NbKz3mopKCnH7gvp+N+pVOxPzESZUqBdKzvMGdQeT3bzgJ+rfY2vGx3kiae6e8DvzT/wXB9fNs9UL2ygiYhMxJlkBYSAVm4gvNfIbh5Ye+gmYi+k46nuDWs+fjmeDAHgWU7fMDozBrZDem4xvvv7OtwcrDHt0XY6O9f9aza/+nh7ONhY4n+nUxF7IQNFZUq4O1pjSv+2GNXNAwEeDvX6bYtEIoGjVIKM3BKd1U7NCxtoIiITEZ+sAKD9BjrYpwVaO1hj+5m0BjXQSpXAL8eSMcCvFbydbbVaG+meRCLB/43sjMy8Enz4xwW4Okgb/A+pB6lcs7ly2Tm5ogjzNp8BADjbWWFssCdGdfNET98WDZpK4iSVICPPeFcVoabFBpqIyETEJynQrpUdnGyttJprZibB8EB3rD98E7nFZXCwttTo9fsvZyI1pxj/p8df/1PjmJtJ8ElYN9zOL8G8TafR0k6KAe1bNTq3uEyJS7fycC41Bx/uuFBtzWYAaGlnhcNvDoZlI6f+OEolyMzjCDTVDxtoIiITIITAqeRsne3uN7KbO74/cB27EtIxNthLo9duPJqEVvZWzWp7aFNkbWmOyEk98ey3h/DSj8fx80t90cWz/tvFF5cpcT4tFwnyHJyV5+CsPBeJ6XkoV4kHvi6roLTRzTNQMQJ9M4sNNNUPG2giIhOQkl2E2/mlCPJp/A6ENQnydoKnkw12nE3TqIHOyC1G7MUMTHukHawsePOgsXO0scQPU3pjzNcHMD7yEOykFkjPLYHn4T2YH+qvvkGvoKQcF9JycVaeg3PyXJyT5+BKZj6Ud5tlZzsrdPF0xGP+Lgj0dEQXT0eMjzwEuaL6FAttrdnsKJUgq6AUpeUqfi1SndhAExGZgMr5z0Fanv9cSSKRYERXd6w5cB05hWVwtK3fNI5NJ1KgVAmu/dyMtHa0Rng/Xyz98xLyS/6Zrzx/82n8eOgGcorLcTUzH+LuwHIreykCPR0wNMANXTwdEejpCHdH62o3/80P7VhlDjSg3TWbnaQV57udX8KNVKhObKCJiEzAqSQFrC3N4N9aprNzjAh0R+T+a4g5f6teW3GrVAJRx5LQ76GWaKOljV3IMKw7lFTtWJlSID5ZgUEdXTGyqzu6eDgi0MsRrjJpvVbKqBy9Vq/C4WRTZVS7sRzvNtAZeWygqW5soImITEB8cjYCPR21Mle0Nl29HOHjbIvtZ9Lq1UAfuHobyVlFmB/aUWc1kX6kKopqPC4E8F14rwbnjg7yxOggT8TFxSEkJKTBOTWpHIHOyOVKHFQ3k5rko1AoMG7cOHTs2BGdOnXCoUOHkJWVhSFDhqB9+/YYMmQIsrOz1c9funQp/Pz84O/vj5iYGPXxEydOIDAwEH5+fpgzZw6EePANDkRE+lRSrkSCPFdn858rVU7jOHDlNrILSut8/sajSWhha4nQAN482NzUNoJryCO7TveMQBPVxaQa6Llz5+KJJ57AxYsXcfr0aXTq1AkREREYPHgwEhMTMXjwYERERAAAzp8/j6ioKCQkJCA6OhqzZs2CUlkx72rmzJmIjIxEYmIiEhMTER0drc+3RUT0QBfS8lCqVOls/vO9RgS6Q6kSiE649cDnZeaVYGdCOsb28ILUwlzndVHTmh/qDxvLqp9Xbc5X1gUHKwkkEnApO6oXk2mgc3NzsX//fkydOhUAYGVlBScnJ2zbtg3h4eEAgPDwcGzduhUAsG3bNowfPx5SqRRt27aFn58fjh49irS0NOTm5qJv376QSCSYNGmS+jVERIYoPqniN2vdfZx0fq4ADwe0bWWHHWfSHvi8X0+moFwlML63j85roqY3OsgTS8cEwvPuiLOnkw2Wjgk06G2yzc0kaGlnxRFoqheTaaCvXbsGFxcXTJkyBUFBQXjxxRdRUFCA9PR0uLu7AwDc3d2RkZEBAJDL5fD2/mcOn5eXF+RyOeRyOby8vKodJyIyVKeSFWjtYA13R93/+lwikWBEoDsOXr2N2/k1NyJCCEQdTULvNs7wc7XXeU2kH6ODPHFg4SD88IQdDiwcZNDNcyUXmTUyuRsh1YPJ3ERYXl6OkydP4ssvv0SfPn0wd+5c9XSNmtQ0r1kikdR6vCaRkZGIjIwEAKSkpCAuLq5hxddTfn6+Ts6hi1xmMtPQc5tT5sFLhfBxMKv3uRtbp1upCioBfLFlPwb5WFbLvHBHiRt3ijHUU9mo8/DriZnazrQos8BVuXazjeX9k4aEiUhLSxO+vr7qj/fv3y+GDx8uOnToIFJTU4UQQqSmpooOHToIIYRYsmSJWLJkifr5Q4cOFQcPHhSpqanC399ffXzDhg1i+vTpdZ4/ODhYS++kdnv37jWaXGYy09Bzm0vm7bxi4btgu/gm7orWMuuiUqnEoI/3ime/PVhj5ssbTorAt6NFUWl5o87Drydmajtz3i+nRJ8Pd2s9V9t09bV/r6boW4yZyUzhaN26Nby9vXHp0iUAQGxsLDp37oxRo0Zh7dq1AIC1a9fiqaeeAgCMGjUKUVFRKCkpwfXr15GYmIjevXvD3d0dMpkMhw8fhhAC69atU7+GiMjQnKrcQEXHK3DcSyKRYGRXDxy5nlVtSbCsglJEn7uFMT28YG3JmwfJsLg6SHE7vwSqOrYPJzKZKRwA8OWXX+L5559HaWkp2rVrhzVr1kClUiEsLAyrV6+Gj48PNm3aBAAICAhAWFgYOnfuDAsLC6xYsQLm5hXf7FeuXInJkyejqKgIw4YNw7Bhw/T5toiIahWfpIC5mQSBno5Net6RXd3xeWwi/jx3C+H92qiPbzmZglKlChN48yAZIFeZNcpVAlmFpWhlL9V3OWTATKqB7t69O44fP17teGxsbI3PX7x4MRYvXlzteM+ePXHu3Dmt10dEpG2nkhXo2FoGG6umHe1t7yaDv5sM28+kqhtoIQQ2Hk1CDx8nne6ISNRQrrKKpjkjt4QNND2QyUzhICIyNSqVwOlkBbo3wfrPNRnZ1R3HbmTjVk7FNI7jN7NxNbOAS9eRwXJ1uNtAcyUOqgMbaCKiZupqZj7ySsqbdP7zvUZ0rVgidMfZijWhNx5JgkxqgZF3jxMZGhd7awDcjZDqxgaaiKiZik9SAIDeRqDbudijs7sDdpxJRUGZwI6zaXgqyAO2ViY1e5CMSOUINHcjpLrwuxgRUTMVn5wNB2sLtGtlp7ca2rayxY6zt3AyqeJjNwdrvdVCVBdrS3PIrC2qrR5DdD+OQBMRNVPxSQp092kBM7OaN3vSta3xcuy+kFHl2Nd7r2JrPHdvJcPlKpNyCgfViQ00EVEzVFBSjsvpeXqbvgEAy2MuoaRcVeVYUZkSy2Mu6akiorq5yqzZQFOd2EATETVDZ1JyoBJAkI+T3mpIVRRpdJzIELg6SLkKB9WJDTQRUTMUn5wNAOju5aS3GjycbDQ6TmQIXGVSZOaVQAjuRki1YwNNRNQMxScp0LaVHVrYWemthvmh/rC5b7tuG0tzzA/111NFRHVzlVmjuEyFvJJyfZdCBowNNBFRMyOEwKlkBYL0OP8ZAEYHeWLpmEB43h1x9nSywdIxgRgd5KnXuogeRL2ZSi7nQVPtuIwdEVEzI1cUITOvBN31OP+50uggT4wO8kRcXBxCQkL0XQ5RnVxk/+xG6Odqr+dqyFBxBJqIqJk5lawAAAR562cHQiJj5iqrWKucm6nQg7CBJiJqZuKTFJBamKGju0zfpRAZHU7hoPow6gY6OzsbZ86c0XcZREQGJT4pG4GejrA0N+pv8UR6IZNawNrSjEvZ0QMZ3XfXkJAQ5ObmIisrC926dcOUKVPw2muv6bssIiKDUFquwrnUXL2u/0xkzCQSCTdToToZXQOdk5MDBwcHbNmyBVOmTMGJEyewe/dufZdFRGQQLqTlorRche6c/0zUYK4yKadw0AMZXQNdXl6OtLQ0/PLLLxg5cqS+yyEiMijqGwg5Ak3UYC4y7kZID2Z0DfR//vMfhIaG4qGHHkKvXr1w7do1tG/fXt9lEREZhPikbLjKpHB3tNZ3KURGy1Um5RQOeiCjWwf6mWeewTPPPKP+uF27dvj111/1WBERkeGIT1YgyMcJEolE36UQGS1XB2vkFZejuEwJ6/t20yQCjHAEOiUlBU8//TRcXV3h5uaGsWPHIiUlRd9lERHpXVZBKW7eKUSQD+c/EzWGejMVzoOmWhhdAz1lyhSMGjUKqampkMvlePLJJzFlyhR9l0VEpHenkrMBAN31vIU3kbFzvWc3QqKaGF0DnZmZiSlTpsDCwgIWFhaYPHkyMjMz9V0WEZHenUpSwEwCdPVy1HcpREatcjdCzoOm2hhdA92qVSusX78eSqUSSqUS69evR8uWLfVdFhGR3sUnK+Df2gG2VkZ3ewuRQflnN0KOQFPNjK6B/v777/HLL7+gdevWcHd3x+bNm/H999/ruywiIr1SqQROJSm4fB2RFjjbWsHCTILMfI5AU82MbpjCx8cH//vf//RdBhGRQbl2Ox95JeUI4vxnokYzM5OglT03U6HaGU0D/fLLLz9wWaYvvviizow2bdpAJpPB3NwcFhYWOH78OLKysvDss8/ixo0baNOmDX755Re0aFFxB/vSpUuxevVqmJub44svvkBoaCgA4MSJE5g8eTKKioowfPhwfP7551wyioj06mSSAgA3UCHSFlcHrgVNtTOaKRw9e/ZEcHAwiouLcfLkSbRv3x7t27fHqVOnYG5e/zUa9+7di1OnTuH48eMAgIiICAwePBiJiYkYPHgwIiIiAADnz59HVFQUEhISEB0djVmzZkGpVAIAZs6cicjISCQmJiIxMRHR0dHaf8NERBo4layAzNoC7VrZ67sUomaBm6nQgxjNCHR4eDgA4IcffsDevXthaWkJAJgxYwaGDh3a4Nxt27YhLi5OfY6QkBB89NFH2LZtG8aPHw+pVIq2bdvCz88PR48eRZs2bZCbm4u+ffsCACZNmoStW7di2LBhjXuDRESNEJ+kQHdvJ5iZ8bdhRNrgIrPGqWSFvssgA2U0I9CVUlNTkZeXp/44Pz8fqamp9XqtRCLB0KFDERwcjMjISABAeno63N3dAQDu7u7IyMgAAMjlcnh7e6tf6+XlBblcDrlcDi8vr2rHiYj0paCkHJdu5XL+M5EWucqkuFNQinKlSt+lkAEymhHoSgsXLkRQUBAee+wxAMC+ffvwzjvv1Ou1Bw4cgIeHBzIyMjBkyBB07Nix1ucKIaodk0gktR6vSWRkpLpRT0lJUY9060p+fr5OzqGLXGYy09BzjSnzxx37oBKAeU4y4uLStJJpLO+dX0/M1FWmIq0MQgC/74pDC+uGjzcay/snDQkjlJaWJrZu3Sq2bt0q0tLSGpTx9ttvi+XLl4sOHTqI1NRUIYQQqampokOHDkIIIZYsWSKWLFmifv7QoUPFwYMHRWpqqvD391cf37Bhg5g+fXqd5wsODm5QnZrYu3ev0eQyk5mGnmtMmV/vvSJ8F2wXd/JLtJapbcaSqatcZhpf5s6EW8J3wXZxOjlbq7naoKuv/Xs1Rd9izIxmCsfFixcBACdPnkRqaiq8vb3h7e2N1NRUnDx5ss7XFxQUqKd+FBQUYOfOnejSpQtGjRqFtWvXAgDWrl2Lp556CgAwatQoREVFoaSkBNevX0diYiJ69+4Nd3d3yGQyHD58GEIIrFu3Tv0aIiJ9OJWcjTYtbeFsZ6XvUoiaDZfK7by5lB3VwGimcHzyySdYtWoVXn/99WqPSSQS7Nmz54GvT09Px9NPPw0AKC8vx3PPPYcnnngCvXr1QlhYGFavXg0fHx9s2rQJABAQEICwsDB07twZFhYWWLFihXq1j5UrV6qXsRs2bBhvICQivRFC4GSSAv0f4o6sRNrkWtlAcyUOqoHRNNCrVq0CULEMXUO0a9cOp0+frna8ZcuWiI2NrfE1ixcvxuLFi6sd79mzJ86dO9egOoiItCmrWCAzrwRBPi30XQpRs9LKvrKB5nbeVJ3RNNBbtmx54ONjxoxpokqIiAzH1ZyKFQK4gQqRdllZmMHZzooj0FQjo2mgf//9dwBARkYGDh48iEGDBgGoGJEOCQlhA01EJumqQgkrCzN0bO2g71KImh1XGbfzppoZTQO9Zs0aAMDIkSNx/vx59drNaWlpmD17tj5LIyLSm2sKFQI9HWFlYTT3hBMZDReZFJmcwkE1MLrvuDdu3FA3zwDg5uaGy5cv67EiIiL9KC1X4UauCt25gQqRTrjKrDmFg2pkNCPQlUJCQhAaGooJEyZAIpEgKipKvakKEZGp2Bovx4d/XECZCthyMgWBno4YHeSp77KImhVXBylu55dApRIwM6t50zQyTUbXQH/11Vf47bffsH//fgDA9OnT1cvTERGZgq3xcizachZFZUoAQHZhGRZtOQsAbKKJtMhVJkWZUkBRVMZ11qkKo2ugAaBHjx6QyWR4/PHHUVhYiLy8PMhkMn2XRUTUJJbHXFI3z5WKypRYHnOJDTSRFrnKrAFULGXHBpruZXRzoFetWoVx48bhpZdeAgDI5XKMHj1av0URETURpUpAriiq8bHUWo4TUcO4OnA3QqqZ0TXQK1aswIEDB+DgULFkU/v27ZGRkaHnqoiIdEsIgX2XMzHii79qfY6Hk00TVkTU/HE3QqqN0TXQUqkUVlb//BqlvLwcEgkn9hNR83VOnoMXVh9F+PdHUViqRHhfX9hYVv32bWNpjvmh/nqqkKh5uncKB9G9jG4O9MCBA/Hhhx+iqKgIu3btwtdff40nn3xS32UREWldSnYhPtl5Gb/Fy9HC1hL/GdkZzz/sA6mFOYJ8WmB5zCXIFUXwdLLB/FB/zn8m0jIbK3PIpBacwkHVGF0DHRERgdWrVyMwMBDffvsthg8fjhdffFHfZRERaU1OYRlWxF3BDwduQCIBZoY8hBkDH4KjjaX6OaODPDE6yBNxcXEICQnRX7FEzVzFZipsoKkqo2mgMzIysGTJEly5cgWBgYFYvXq1eh40EVFzUFymxI+HbuKrvVeQW1yGsT288NqQDpzbTKRHLjIpp3BQNUYzB3rSpEmws7PDyy+/jPz8fMyZM0ffJRERaYVKJbA1Xo7Bn+zDh39cQJCPE/6Y8wg+fqYbm2ciPXN14G6EVJ3RjEDfunULH374IQAgNDQUPXr00HNFRNQcbY2X/zO3+PAenc8tPnDlNpb8cQEJqbno4umAZeO6or9fK52dj4g04yqTIiO3BEIILlpAakbTQAshkJ2dDSEEAECpVFb52NnZWZ/lEVEzcP8Of3JFkc52+LuQlouIPy9i3+VMeDrZ4PPx3fFkVw9uF0xkYFxlUhSVKZFfUg6ZtWXdLyCTYDQNdE5ODoKDg9UNMwD1KLREIsG1a9f0VRoRNRO17fD37u8JaGUvhZOtJZxsLdHC1gq2Vub1Ho26d1Tb7eBu+Drb4tjNbDhYW+KtEZ0w8WFfWFua6+ItEVEjqTdTySthA01qRtNA37hxQ98lEFEzdjUzv9Yd/rILyzBx9ZEqx6zMzeBoa4kWtpZwsrGq0lw72Vrd/bMlzspz8N1f11FSrgIApOeWID23BIP8XfDfZ4PgaMsfyESGTL0WdG4JHnKx13M1ZCiMpoEmItKFC2m5+GrvFfxxNq3W57jKpPjquR7ILixFTmEZsgtLkV1YhpyiUmQXlEFRVIqkrEKcTqk4Xnq3WX6QS+n5bJ6JjMA/uxFyJQ76BxtoIjJJp5IV+GrPFey+kA57qQVmDHwIHk7WWLLjYpVpHDaW5nhzeCf0blv/+yyKSpXILiyForAMw2vZeju1ltFuIjIslSPQXAua7sUGmohMhhACR65nYcXeK/gr8TacbC3x6uMdMLlfG/VosExq2egd/myszGFjZQMPJxt4OtnUODWEy9MRGQcHGwtYWZixgaYqjLKB/vvvv5GYmIgpU6YgMzMT+fn5aNu2rb7LIiIDJYTAvsuZ+GrPFRy/mY1W9lK8ObwjnuvjC3tp1W+D2t7hb36of5WVPYCKUe35of6NziYi3ZNIJBVL2bGBpnsYXQP97rvv4vjx47h06RKmTJmCsrIyTJw4EQcOHNB3aURkYFQqgZ3n07Fi7xWclefAw9Ea7z0VgLCe3k226kXl6HVjR7WJSH9cuRsh3cfoGujffvsN8fHx6iXsPDw8kJeXp+eqiMiQlCtV2HE2DSv2XsHl9Hy0aWmLZWO7YnSQJ6wsmn4DVm2PahNR03KVWeNqZr6+yyADYjRbeVeysrKCRCJRr79aUFCg0euVSiWCgoIwcuRIAEBWVhaGDBmC9u3bY8iQIcjOzlY/d+nSpfDz84O/vz9iYmLUx0+cOIHAwED4+flhzpw5VdamJqKmszVejv4RezA5ugD9I/Zg8/FkRB1NwuBP92Fu1ClIIMHn47tj92sDEdbLWy/NMxEZP1cHTuGgqozup0lYWBheeuklKBQKrFq1Co8//jimTZtW79d//vnn6NSpk/rjiIgIDB48GImJiRg8eDAiIiIAAOfPn0dUVBQSEhIQHR2NWbNmQamsmMM4c+ZMREZGIjExEYmJiYiOjtbumySiOlXuGlh5g55cUYT5m89g4ZazcLSxxLcvBOPPuY/gqe6esDA3um91RGRAXGVS5BSVofi+jZbIdBndT5V58+Zh3LhxGDt2LC5duoT33nsPL7/8cr1em5KSgh07duDFF19UH9u2bRvCw8MBAOHh4di6dav6+Pjx4yGVStG2bVv4+fnh6NGjSEtLQ25uLvr27QuJRIJJkyapX0NETaemXQMFgJZ2Vtg2uz9CA1pzW2wi0gqXu2tBcyUOqmR0c6ABYMiQIRgyZIjGr3vllVewbNmyKnOm09PT4e7uDgBwd3dHRkYGAEAul+Phhx9WP8/LywtyuRyWlpbw8vKqdpyImlZt6yhnFZTWe4ttIqL6UO9GmFcCb2dbPVdDhsBoGmiZTPbAH4q5ubkPfP327dvh6uqK4OBgxMXF1Xm+muY1SySSWo/XJDIyEpGRkQAqRr/rc97GyM/P18k5dJHLTGY2lp0lkF9W/biztUQr5zD0989Mfs9jZtNlJuVW/LZr76ETyLuuWetkLO+fNCSMzP/93/+JFStWiNzcXJGTkyO+/vpr8dFHH9X5uoULFwpPT0/h6+sr3NzchI2NjXj++edFhw4dRGpqqhBCiNTUVNGhQwchhBBLliwRS5YsUb9+6NCh4uDBgyI1NVX4+/urj2/YsEFMnz69zvMHBwdr+lY1tnfvXqPJZSYzG+N8ao7wW7RDtFm4Xfgu+Oe/jm/9KX47maKVcxjy+2em7jJ1lctM485Mzy0Svgu2i7UHr2s1t6F09bV/r6boW4yZ0c2BjomJwaxZsyCTyeDg4ICZM2fi119/rfN1S5cuRUpKCm7cuIGoqCgMGjQI69evx6hRo7B27VoAwNq1a/HUU08BAEaNGoWoqCiUlJTg+vXrSExMRO/eveHu7g6ZTIbDhw9DCIF169apX0NEupdVUIpp647D2d4K7z7ZGZ53d/TzdLLB0jGBXF+ZiLSupZ0UZhIgI5dzoKmC0UzhqGRubo6ffvoJ48ePh0QiwcaNG2Fu3vANERYuXIiwsDCsXr0aPj4+2LRpEwAgICAAYWFh6Ny5MywsLLBixQr1eVauXInJkyejqKgIw4YNw7Bhw7Ty3ojowcqUKsz+6SQy8krwy0t90d3bCZP6teX6ykSkU+ZmErSy52Yq9A+ja6A3bNiAuXPnYu7cuZBIJOjfvz82bNigUUZISIj6h23Lli0RGxtb4/MWL16MxYsXVzves2dPnDt3TuPaiahxPtxxAYeu3cEnz3RDd28nfZdDRCaEa0HTvYyugW7Tpg22bdum7zKIqIn9cjwZPxy8gX/1b4uxwV51v4CISItcZda4lcMRaKpgdHOgicj0xCdl463fzqG/X0u8ObyjvsshIhPkKuMINP3D6EagiUi3tsbLsTzmEuSKInge3oP5of56vTEvPbcYL/14Am6OUnw1oQd3FSQivXCVSZFVUAKlSsCcmzSZPP4kIiK1mrbHXrTlLLbG62ezoJJyJWasP4H8knKsmtQTLeys9FIHEZGLgzVUAriTz1FoMsIGOj09HVOnTlWvfHH+/HmsXr1az1URNQ81bY9dVKbE8phLTV6LEAJv/XYO8UkKfPJMN3Rs7dDkNRARVXK9u503p3EQYIQN9OTJkxEaGorU1FQAQIcOHfDZZ5/ptyiiZqK27bFrO65Law/ewKYTKZgzyA/DAt2b/PxERPf6p4HmjYRkhA307du3ERYWBjOzitItLCwatQ40Ef3D4+6mJPdzsLGscRt7XTl49Tbe33EBj3dywyuPd2iy8xIR1cbVwRoAN1OhCkbXQNvZ2eHOnTuQSCom8B8+fBiOjo56roqoeZgf6g9zSdWbY8wkQE5RGaatO46sglKd15CcVYjZP51E21Z2+O+z3WDGm3WIyAC0sq+4B4NTOAgwwlU4Pv30U4waNQpXr15F//79kZmZic2bN+u7LKJmIcjHCSohYC81R36JEp5ONpg3pAOyisrw0Z8X8cRn+/FpWHcMaN9KJ+cvLC3HtHXHoVQJrJrUEzJrS52ch4hIU1ILczjZWnIKBwEwwga6R48e2LdvHy5dugQhBPz9/WFpyR+yRNrw9d6rsLQww57XQ3D+5OEq22M/3M4ZczbGY+LqI3jp0XZ4fag/rCy090ssIQTmbzqDy+l5WDOlN9q2stNaNhGRNrjKpJzCQQCMqIHesmVLjccvX74MABgzZkxTlkPU7KRkF+LXkyl4ro8PXB2scf6+xwM8HLH95Ufw/o7z+Hb/NRy8egefj++Odi72Wjn/13FXseNsGhYN64iBHVy0kklEpE2uMmtO4SAARtRA//777wCAjIwMHDx4EIMGDQIA7N27FyEhIWygiRrpm31XIZEAMwY+VOtzbKzMseTpQDza3gULt5zByC//xjujAvBMsJf6voSG2HMxHR/vvIRR3Tww/dF2Dc4hItIlV5kU128X6LsMMgBG00CvWbMGADBy5EicP38e7u4Vy1qlpaVh9uzZ+iyNyOil5xbjl2MpGBfsVetKHPd6oktrdPN2xKs/n8Ibm89g3+VMLHk6EI42mk+nupKRj7kbTyHAwwEfje3aqEaciEiXXBykyMwrgRCC36tMnNGtwnHjxg118wwAbm5u6mkcRNQw3+67BqUQmDnQr96vcXe0wU8vPow3nvBHzLlbGP75Xzh2I0uj8+YUlWH6uuOwsjDDty/0hI0Vl6QkIsPlKrNGqVIFRWGZvkshPTO6BjokJAShoaH44YcfsHbtWowYMQKPPfaYvssiMlq380uw4ehNjO7uCZ+Wthq91txMglkhftg8sx8szCV49ttD+HTXZZQrVXW+VqkSeCUqHklZhVg5MRie9Rj5JiLSJ+5GSJWMroH+6quv8NJLL+H06dM4deoUpk+fji+//FLfZREZrVV/XUNpuQqzH6t97nNduns7YcecRzA6yBNfxCbi2cjDSM4qfOBrPt55CXsvZeKdUQHo3da5wecmImoq3I2QKhnNHOh7jRkzhjcNEmlBdkEpfjx0EyO7ejR6NQ17qQU+DeuOgR1c8NZv5zD887/w4ZhAjOrmUe25v59Oxcq4q5jQ2wcTH/Zt1HmJiJoKdyOkSkbXQB8+fBgvv/wyLly4gNLSUiiVStjZ2SE3N1ffpREZne8PXEdhqRL/HlT/uc91eaq7J3r4tMDcqHjM2RiPfZcy0atNC3y55wrkiiK4HNiN7IIS9PRtgXdHBWjtvEREusYpHFTJ6Brof//734iKisIzzzyD48ePY926dbhy5Yq+yyIyOjlFZfjhwA0M69IaHdxkWs32drbFLy/1xRd7ruCL2ERsOZkCcfexzLs/eEZ199DqRixERLpmJ7WAnZW5+vsYmS6j/Onl5+cHpVIJc3NzTJkyBXv37tV3SURGZ+3BG8grKdfq6PO9LMzN8NqQDmhlb6Vunu/17b5rOjkvEZEuuTpYcw40Gd8ItK2tLUpLS9G9e3e88cYbcHd3R0EBFzUn0kR+STm+P3Adj3dyRYCHo07PdSe/tMbjqYoinZ6XiEgXXGRSTuEg4xuB/vHHH6FUKvHVV1/Bzs4OycnJ+PXXX/VdFpFR+fHQTSgKy/DyoPY6P1dtG7PUZ8MWIiJD4yqTcgoHGd8ItK9vxR37NjY2ePvtt/VcDZHxKSwtx3d/XcOjHVzQzdtJ5+ebH+qPRVvOoqhMqT5mY2mO+aH+Oj83EZG2ucikyMjlFA5TZzQNdGBg4AO3zTxz5kwTVkNkvDYcScKdglLM0dHc5/uNDvIEACyPuQS5ogieTjaYH+qvPk5EZExcZdYoKFWioKQcdlKjaaNIy4zmM799+3YAwIoVKwAAL7zwAgDgp59+gq2tZrunEZmq4jIlIvdfQ992LdGzTdNtXjI6yBOjgzwRFxeHkJCQJjsvEZG23buUXVs20CbLaOZA+/r6wtfXFwcOHMCyZcsQGBiIwMBAREREICYmps7XFxcXo3fv3ujWrRsCAgLU0z+ysrIwZMgQtG/fHkOGDEF2drb6NUuXLoWfnx/8/f2rnOPEiRMIDAyEn58f5syZAyFqWmOAyPD8cjwZGXkleHlw04w+ExE1N64OdxtoTuMwaUbTQFcqKCjA33//rf744MGD9VqFQyqVYs+ePeotwKOjo3H48GFERERg8ODBSExMxODBgxEREQEAOH/+PKKiopCQkIDo6GjMmjULSmXFHM6ZM2ciMjISiYmJSExMRHR0tG7eLJEWlZar8E3cVfT0bYG+7VrquxwiIqPkKru7GyFvJDRpRtdAr169GrNnz0abNm3Qpk0bzJo1C99//32dr5NIJLC3r9iquKysDGVlZZBIJNi2bRvCw8MBAOHh4di6dSsAYNu2bRg/fjykUinatm0LPz8/HD16FGlpacjNzUXfvn0hkUgwadIk9WuIDNmvJ1OQmlOMlwe3f+D9BEREVDvuRkiAEc2BrhQcHIzTp08jNzcXQgg4OtZ/DVulUong4GBcuXIFs2fPRp8+fZCeng53d3cAgLu7OzIyMgAAcrkcDz/8sPq1Xl5ekMvlsLS0hJeXV7XjRIasTKnC13FX0M3LEY+2b6XvcoiIjJaTrSWszM24mYqJkwgjmcC7fv16TJw4EZ9++mmNj7/22mv1zlIoFHj66afx5ZdfYsCAAVAoFOrHWrRogezsbMyePRt9+/bFxIkTAQBTp07F8OHD4ePjg0WLFmH37t0AgL/++gvLli3D77//Xu08kZGRiIyMBACkpKQgKiqq3jU2RH5+vnqU3dBzmdm0mX/Ly/Dd2VLM7SFFkGv9/t1sLO9dV7nMNM1MXeUys3llvh5XCH9nc0zvKtVqbn3p6mv/XvPmzcPx48d1eg5jZjQj0JXznPPy8qo9pumvo52cnBASEoLo6Gi4ubkhLS0N7u7uSEtLg6urK4CKkeXk5GT1a1JSUuDh4QEvLy+kpKRUO16T6dOnY/r06QCAnj176nz1AV2tcKCLXGY2XaZSJfDep/vQ2d0arzwzoN7Xi7G8d13lMtM0M3WVy8zmlemdcABmUguEhPTRam59cUUj/TOaBvqll14CADz++OPo379/lccOHDhQ5+szMzNhaWkJJycnFBUVYffu3ViwYAFGjRqFtWvXYuHChVi7di2eeuopAMCoUaPw3HPP4bXXXkNqaioSExPRu3dvmJubQyaT4fDhw+jTpw/WrVuHl19+WftvmEhLtp9JxbXbBVj5fA/OfSYi0gJXmRQ37tS9gAE1X0bTQFd6+eWXcfLkyTqP3S8tLQ3h4eFQKpVQqVQICwvDyJEj0bdvX4SFhWH16tXw8fHBpk2bAAABAQEICwtD586dYWFhgRUrVsDc3BwAsHLlSkyePBlFRUUYNmwYhg0bpps3S9RIKpXAir1X0MHNHqEBrfVdDhFRs+DqIMXRG1n6LoP0yGga6EOHDuHgwYPIzMysMg86NzdXvbzcg3Tt2hXx8fHVjrds2RKxsbE1vmbx4sVYvHhxteM9e/bEuXPnNKieSD9iEm7hcno+Ph/fHWZmHH0mItIGV5k1FIVlKClXQmphru9ySA+MpoEuLS1Ffn4+ysvLq8yDdnBwwObNm/VYGZFhEkLgyz1X0K6VHUZ2rXmePhERaa5yKbvb+aXwdLLRczWkD0bTQA8cOBADBw7E5MmT4evrq+9yiAxe7IUMnE/LxcfPdIM5R5+JiLTm3t0I2UCbJqNpoCuVlJRg+vTpuHHjBsrLy9XH9+zZo8eqiOq2NV6O5TGXIFcUwfPwHswP9cfoIE+dnKti9DkR3s42eKo7R5+JiLSJuxGS0TXQzzzzDGbMmIEXX3xRfVMfkaHbGi/Hoi1nUVRWMV9frijCoi1nAUAnTfT+xNs4nZKDpWMCYWludBuOEhEZNBfuRmjyjK6BtrCwwMyZM/VdBpFGlsdcUjfPlYrKlFgec0nrDbQQAl/GJsLD0Rpje3jV/QIiItJISzsrSCRAZi53IzRVRjc09eSTT+Lrr79GWloasrKy1P8RGbJURZFGxxvj0LU7OH4zGzNCHoKVhdFd4kREBs/C3Awt7aQcgTZhRjcCvXbtWgDA8uXL1cckEgmuXbumr5KI6uTuZI1URfWRCgHgtV9O4V/926KLp6NWzvVl7BW4yqQI6+mtlTwiIqrOVcYG2pQZXQN9/fp1fZdApLEePi2QqkirckxqYYbebZ0Rc+4WtpyUo3dbZ0wd0BaPd3Jr8KoZx29k4dC1O3hrRCdYW/IeASIiXXF1kCIjj1M4TJXRNdAAcO7cOZw/fx7Fxf984U6aNEmPFRHV7pw8BzEJt9DdyxGZ+SWQKyqWPapchSOnqAy/HEvGDwdv4KUfT8DH2RaT+7XBMz29ILO21OhcX+y5gpZ2Vni+D5d6JCLSJVeZFOdTc/VdBumJ0TXQ7777LuLi4nD+/HkMHz4cf/75JwYMGMAGmgxScZkSr/x8Cs52VvjhX73hZGuFuLg4hISEqJ/jaGOJaY+2w5T+bbDzfDq+//s63tt+Hv/ddRlhvbwxuV8beDvb1nmuU8kK7L+ciQVPdISNFUefiYh0yVVmjdv5JVCqBNfaN0FGd4fR5s2bERsbi9atW2PNmjU4ffo0Sko4B4kMU8SfF3ElIx8fP9MNTrZWD3yuhbkZhge6Y/PMftg2uz8GdXLF2oM3MHD5Xsz48QSOXs+CEKLW13+1JxFOtpZ4oS9Hn4mIdM3VQQqVAO4UsAcxRUbXQNvY2MDMzAwWFhbIzc2Fq6srbyAkg7TvciZ+OHgDU/q3wSPtXTR6bTdvJ3w+Pgh/LXgMMwY+hMPX7yDs20MY9dUB/BafgtJyVZXn38xVYveFDPyrf1vYS43uF0tEREancjvvjFw20KbI6H7S9uzZEwqFAtOmTUNwcDDs7e3Ru3dvfZdFVEVWQSnmbTqNDm72WPBExwbnuDva4I0nOuLlQe2xJT4F3/99Ha/+fBpL/7iISX194WRrhZVxVyFXFEMCoJXswaPcRESkHS53dyPM5EocJsnoGuivv/4aADBjxgw88cQTyM3NRdeuXfVcFdE/hBB4c8tZKApLsXZKb62shmFjZY7n+/hiQi8f7E/MxOq/r+PjnZernhfA+79fgK2lhc62CCciogrqEWiuxGGSjK6B3r9/f43HHn30UT1UQ1Td5hMpiE64hUXDOqKzh4NWs83MJAjxd0WIvyt6f7i72hqkutrdkIiIqnLhFA6TZnQN9L0bqBQXF+Po0aMIDg7Gnj179FgVUYWkO4V4538J6NPWGS8+0k6n56rt14a62N2QiIiqsrY0h6ONJTLz2UCbIqNroH///fcqHycnJ+ONN97QUzVE/yhXqvDaL6dgZibBp8921/myRh5ONpDX0Cx7ONno9LxERFTBVSblCLSJMrpVOO7n5eWFc+fO6bsMInyz7yqO38zG+091gWcTNLHzQ/1hc9/8ahtLc8wP9df5uYmIiLsRmjKjG4F++eWXIZFUjOypVCqcOnUK3bp103NVZOrOpCjw2e5EPNnNA09192iSc1bOc14ecwlyRVGV3Q2JiEj3XOylOH4zW99lkB4YXQPds2dP9Z8tLCwwYcIE9O/fX48VkakrKq3YbdBFJsUHT3VR/wOvKYwO8sToIM9quxsSEZHuuTpYIyOvBEKIJv3eT/pndA30M888gytXrgAA/P39IZVK9VwRmbolf1zAtcwCbHixDxxtLfVdDhERNRFXmRSl5SrkFpXz+7+JMZo50GVlZXjllVfg7e2NKVOmIDw8HO3atUNERAQAID4+Xs8VkinaezEDPx6+iWmPtEU/v1b6LoeIiJqQC9eCNllG00C//vrryM/Px40bN3DixAnEx8fjwoULuHbtGmbOnIkxY8bou0QyMXfySzB/8xl0bC3DPN64R0Rkclzv7kZ4/5r81PwZzRSOP/74A4mJiVXmGDk4OGDlypVo1aoV/vzzTz1WR6ZGCIGFW84it6gM61/sDalF43cbJCIi4+LqwBFoU2U0I9BmZmY1TtA3NzeHi4sLHn744Qe+Pjk5GY899hg6deqEgIAAfP755wCArKwsDBkyBO3bt8eQIUOQnf3P3bRLly6Fn58f/P39ERMToz5+4sQJBAYGws/PD3PmzIEQQkvvkozFz8eSset8Ot54wh8dW2t3t0EiIjIOrtyN0GQZTQPduXNnrFu3rtrx9evXo1OnTnW+3sLCAp988gkuXLiAw4cPY8WKFTh//jwiIiIwePBgJCYmYvDgweo51efPn0dUVBQSEhIQHR2NWbNmQalUAgBmzpyJyMhIJCYmIjExEdHR0dp9s2TQbtwuwHvbz6PfQy3xr/5t9V0OERHpib3UAjaW5pzCYYKMZgrHihUrMGbMGHz//fcIDg6GRCLBsWPHUFRUhN9++63O17u7u8Pd3R0AIJPJ0KlTJ8jlcmzbtg1xcXEAgPDwcISEhOCjjz7Ctm3bMH78eEilUrRt2xZ+fn44evQo2rRpg9zcXPTt2xcAMGnSJGzduhXDhg3T2Xsnw1GuVOGVn0/BwkyCT8K6wUzHuw0SEZHhkkgkdzdTYQNtaoymgfb09MSRI0ewZ88eJCQkQAiBYcOGYfDgwRpn3bhxA/Hx8ejTpw/S09PVjbW7uzsyMjIAAHK5vMq0EC8vL8jlclhaWsLLy6vacTINK/ZexalkBb6cEAR3R26ZTURk6iq28+YcaFMjESY2gTc/Px8DBw7E4sWLMWbMGDg5OUGhUKgfb9GiBbKzszF79mz07dsXEydOBABMnToVw4cPh4+PDxYtWoTdu3cDAP766y8sW7YMv//+e7VzRUZGIjIyEgCQkpKCqKgonb83e3t7o8g1xsyrCiU+PFKMPq3N8VI3a61kaospZ+oql5mmmamrXGY238wVp4qRnKtCxKO2Ws19EF197d9r3rx5OH78uE7PYdSECSktLRVDhw4Vn3zyifpYhw4dRGpqqhBCiNTUVNGhQwchhBBLliwRS5YsUT9v6NCh4uDBgyI1NVX4+/urj2/YsEFMnz69znMHBwdr623Uau/evUaTa2yZ+cVlYuCyPaLf0lihKCzVSqY2mXKmrnKZaZqZusplZvPNfHvbORHwn2it5z6Irr7279UUfYsxM5qbCBtLCIGpU6eiU6dOeO2119THR40ahbVr1wIA1q5di6eeekp9PCoqCiUlJbh+/ToSExPRu3dvuLu7QyaT4fDhwxBCYN26derXUPP1wY4LuJlViE/CusHRhrtNERFRBVcHKfJLylFYWq7vUqgJGc0c6MY6cOAAfvzxRwQGBqJ79+4AgCVLlmDhwoUICwvD6tWr4ePjg02bNgEAAgICEBYWhs6dO8PCwgIrVqyAuXnFWr8rV67E5MmTUVRUhGHDhvEGwmZu9/l0bDyahJcGtsPD7VrquxwiIjIglZupZOaVwLelybRVJs9kPtMDBgyodb3m2NjYGo8vXrwYixcvrna8Z8+eOHfunFbrI8OyNV6O5TGXIFcUwUxyHB6O1nhtSAd9l0VERAbmn+28S+Db0k7P1VBTMZkpHET1tTVejkVbzkKuKAIAqARwp6AUf569pefKiIjI0HAzFdPEBproPstjLqGoTFnlWEm5CstjLumpIiIiMlTqBprbeZsUNtBE90m9O/Jc3+NERGS6WthawcJMws1UTAwbaKL7eDjVvMazhxM3TiEioqrMzCRwkUk5hcPEsIEmuk+Iv0u1YzaW5pgf6q+HaoiIyNC5yqScwmFi2EAT3eN2fgl2nL2FNi1t1SPRnk42WDomEKODPPVcHRERGSIXmTUyOYXDpJjMMnZE9fHO/xJQWKLE5hl94ecqQ1xcHEJCQvRdFhERGTBXBylOJmXruwxqQhyBJrpr9/l0bD+Thn8P8oOfq0zf5RARkZFwlUmRVVCK0nKVvkuhJsIGmghAbnEZ3tp6Dh1byzBj4EP6LoeIiIxI5W6Et/M5jcNUsIEmAhDx50Vk5BXjo7FdYWXBy4KIiOrP9Z7dCMk0sFMgk3f42h1sOJKEf/Vvi27eTvouh4iIjIyrQ+VuhFyJw1SwgSaTVlymxKItZ+HjbIvXhnbQdzlERGSEKqdwcATadHAVDjJpn8cm4vrtAvz0Yh/YWvFyICIizbWyt4JEwgbalHAEmkzWOXkOIvdfQ1hPL/T3a6XvcoiIyEhZmJuhpZ0V14I2IWygySSVK1VY8OsZONtZYfHwzvouh4iIjFwreykyuRuhyeDvrMkkrfrrOhJSc/HNxB5wtLXUdzlERGTkXB2sOYXDhHAEmkzOtcx8fLb7Mp4IaI0nurjruxwiImoGXGVSZOSygTYVbKDJpKhUAgu3nIXUwgzvPRWg73KIiKiZcJVJcTu/BCqV0Hcp1ATYQJNJ2XgsCUevZ2HxiE5wdbDWdzlERNRMuMqkKFcJZBWW6rsUagJsoMlkpOUUIeKPi+j3UEuE9fTWdzlERNSMVA7KcBqHaWADTSZBCIH/23oOZSoVIsZ0hUQi0XdJRETUjPyznTdX4jAFbKDJJGw/k4bdFzLw+hB/+LS01Xc5RETUzHA3QtPCBpqaveyCUrzzvwR083LElP5t9F0OERE1Q64OFSPQ3EzFNHAdaGr23t9xHjlFZVj/Yh9YmPPfjEREpH3WluaQWVsgI5dTOEyBSXUT//rXv+Dq6oouXbqoj2VlZWHIkCFo3749hgwZguzsbPVjS5cuhZ+fH/z9/RETE6M+fuLECQQGBsLPzw9z5syBEFyyxlDFXcrAlpNyzAx5CJ3cHfRdDhERNWOuMimncJgIk2qgJ0+ejOjo6CrHIiIiMHjwYCQmJmLw4MGIiIgAAJw/fx5RUVFISEhAdHQ0Zs2aBaVSCQCYOXMmIiMjkZiYiMTExGqZZBgKSsqx+LdzeMjFDv8e5KfvcoiIqJlzlXE3QlNhUg30o48+Cmdn5yrHtm3bhvDwcABAeHg4tm7dqj4+fvx4SKVStG3bFn5+fjh69CjS0tKQm5uLvn37QiKRYNKkSerXkGFZHnMJqTlF+GhsV0gtzPVdDhERNXOuDlKuwmEiTKqBrkl6ejrc3Su2c3Z3d0dGRgYAQC6Xw9v7n7WCvby8IJfLIZfL4eXlVe04GZYTN7Ox9tANTHrYFz3bONf9AiIiokaq3M6bUzubP95EWIuavvglEkmtx2sSGRmJyMhIAEBKSgri4uK0WuP98vPzdXIOXeTqMrNMJfD2gSK0kErwsF1mo85jbO/dFDN1lctM08zUVS4zTSMzN6MMJeUq/Lk7DraWEq3l3k9XX/ukAWFirl+/LgICAtQfd+jQQaSmpgohhEhNTRUdOnQQQgixZMkSsWTJEvXzhg4dKg4ePChSU1OFv7+/+viGDRvE9OnT6zxvcHCwtt5Crfbu3Ws0ubrM/GTnJeG7YLvYczFda5naxEztM5ZamWn4mbrKZaZpZP52MkX4LtguEtPztJp7P1197d+rKfoWY2byUzhGjRqFtWvXAgDWrl2Lp556Sn08KioKJSUluH79OhITE9G7d2+4u7tDJpPh8OHDEEJg3bp16teQ/l26lYeVcVfwdJAnHvN31Xc5RERkQrgboekwqSkcEyZMQFxcHG7fvg0vLy+8++67WLhwIcLCwrB69Wr4+Phg06ZNAICAgACEhYWhc+fOsLCwwIoVK2BuXnEj2sqVKzF58mQUFRVh2LBhGDZsmD7fFt2lEgJv/HoGMmtL/N/Izvouh4iITAw3UzEdJtVAb9y4scbjsbGxNR5fvHgxFi9eXO14z549ce7cOa3WRg23NV6O5TGXIFcUASjECw/7wNnOSt9lERGRiXGp3M47lw10c2fyUzjIuG2Nl2PRlrN3m+cKm0+kYGs8V0YhIqKm5WBtAamFGadwmAA20GTUlsdcQlGZssqxojIVlsdc0lNFRERkqiQSyd21oDkC3dyxgSajlnrPyHN9jhMREemSq8yaUzhMABtoMmq1zXX2cLJp4kqIiIjubqbCKRzNHhtoMlrXbxcgv6QM9+9jY2Npjvmh/vopioiITFpFA80R6OaODTQZpYKSckxfdxx2Ukv834hO8Lw74uzpZIOlYwIxOshTzxUSEZEpcnWwRl5xOYrvuz+HmheTWsaOmgchBN7YfAZXM/Px49Q+6O/XCv8a0A5xcXEICQnRd3lERGTCXCo3U8ktgU9LWz1XQ7rCEWgyOpH7r2HH2TQseKIj+vu10nc5REREatyN0DSwgSaj8nfibXwUfREjurpj+qPt9F0OERFRFa6Vm6lwHnSzxgaajEZyViFe3ngSfq72WDa2KyT33z1IRESkZ5XbeWfkcgS6OWMDTUahuEyJmT+dQLlK4NsXesJOyun7RERkeJxtrWBuJuEIdDPHLoQMnhACi387h3PyXKwO74m2rez0XRIREVGNzMwkaGVvhUw20M0aR6DJ4P14+CZ+PZmCVx5vj8Gd3PRdDhER0QO5yqw5At3MsYEmg3b8Rhbe+/08Bnd0xZxB7fVdDhERUZ24mUrzxwaaDFZ6bjFm/nQS3s62+PTZ7jAz402DRERk+FwdpMjkMnbNGudAU622xsuxPOYS5IoieB7eg/mh/k22w19puQqzfjqJgpJy/PRiHzjaWDbJeYmIiBrLRWaNOwWlKFeq9F0K6QgbaKrR1ng5Fm05i6K7W5HKFUVYtOUsADRJE/3e9gScuJmNFc/1QAc3mc7PR0REpC2uMimEAG7nl+q7FNIRTuGgGi2LuahunisVlSmxPOaSzs/9y/FkrD+chJcebYcRXd11fj4iIiJt4m6EzR9HoKkKlUpg5/lbSFXUfNGnKop0ev4zKQq8tfUc+vu1xPxQf52ei4iISBdcHe7uRphbwkarmeLnlQBUrLW863w6PtudiPNpubAwk6BcJao9z8JcgrhLGRjYwUXrOwHeyS/BjB9PwMVeii8n9ICFOX9BQkRExuefEegSeOi5FtINNtAmTgiBPRcz8NnuRJyV58C3pS0+eaYbJBBYvDWhyjQOS3MJ7KwsMHnNMQT7tsBrQzqg30MttdJIlytVeHljPG4XlOLXGf3gbGfV6EwiIiJ9aGX/zxQOD3ZazRI/rSZKCIG4y5n4bNdlnE7JgbezDZaN64oxQZ7qkV8zM7N/VuFwssH8UH8MD3THL8eT8dWeK3j+uyPo3dYZrw/pgD7tWjaqnmUxl3Dw6h18/Ew3BHo5auMtEhER6YWVhRmc7awq1oJuoe9qSBfYQJsYIQT+SryN/+6+jPgkBTydbPDR2ECM6eEFy/umTIwO8sToIE/ExcUhJCREfXziw74YF+yFqKNJWBF3Fc9GHsYAv1Z4dUgHBPtq/p3i99OpiNx/DZP6VuQSEREZO1eZFBm5bKCbKzbQJkIIgYNX7+DTXZdx4mY2PBytseTpQIwL9oKVheZzja0tzTG5f1s828sHPx25iZVxVzF25UGE+LvgtSEd0NXLqV45F2/l4o3NZ9DTtwXeGtFZ4zqIiIgMkYuMm6k0Z2ygTcChq3fw392XcfR6Flo7WOP90V0Q1tMLUgvzRmfbWJnjxUfaYUJvH6w9dAOR+69h1FcHMKSzG159vAM6ezjU+tqcojK89OMJyKwt8PXzPRrUyBMRERkiV5k1rmTkA2j8z1oyPOxYGig6Ohr+/v7w8/NDRESEvsup0dHrWZgQeRgTVh3GjdsFeHdUAOLmh+CFh3210jzfy05qgVkhfvjrjcfw2pAOOHztDoZ/8Rdm/XQCl9Pzqj1fJQReiYpHqqIIKyf2UC/5Q0RE1BwoCkuRllOMydEF6B+xB1vj5fouibSII9ANoFQqMXv2bOzatQteXl7o1asXRo0ahc6d9TMF4f4tt8cFe+LETQX+vnIbreyl+M/Izniujw+sLXX/r2CZtSXmDG6P8L5tsPrva/j+wA38ee4WRnXzwNzB7XEmJUddK1CIccFeCPZ11nldRERETWVrvBz7EzPVH2trN9/7f97PD/Vvkt2BqTo20A1w9OhR+Pn5oV27dgCA8ePHY9u2bXppoGvacvvz2CuwszLHWyM64fk+vrCxavpfHznaWuK1of6Y0r8tvt1/DWsP3sC2U6kwl0igFP+sL73jTCoG+LXiNwAiImo2lsdcQpmy6l4KRWVKvPN7AgQELMzMYGkugYWZGczNJbA0M4OFuUR9rOLPZjA3++ex3RduYckfF1FcpgKgvaacGoYNdAPI5XJ4e3urP/by8sKRI0f0UsvymEvVttwGAAcbS7z4SDs9VFRVCzsrLBzWEVMHtMVjH+9Ffsn924OrsDzmEi9+IiJqNmrbtVdRWIZXfz6ttfMUlSn5M1RPJEKI6tvN0QNt2rQJMTEx+O677wAAP/74I44ePYovv/yyyvMiIyMRGRkJAEhJSUFUVJTWa5kcXVDrYz88YaeVc+Tn58Pe3r7RObquVVt1MtO4MnWVy0zTzNRVLjNNK/P1uELcKa7eXjlJJVjU2xpKgYr/VALlAlCq/vlY/Zj6uIBSBaxJKK31fNr6eX+vefPm4fjx41rPbS44At0AXl5eSE5OVn+ckpICD4/qm3VOnz4d06dPBwD07NmzylrK2uJ5eM/d+cT3HXey0dr57l8HuqF0Xau26mSmcWXqKpeZppmpq1xmmlbm/zlWnV4JADaW5nhndGCDR4t3Ruj+5z3VH1fhaIBevXohMTER169fR2lpKaKiojBq1Ci91DI/1B82990caGNpjvmh/nqp50GMqVYiIqKGGh3kiaVjAuHpZAOgosldOqbhzTPAn6GGhiPQDWBhYYGvvvoKoaGhUCqV+Ne//oWAgAC91FJ5Md6/5bYhzocyplqJiIgao7bdfBuTB/BnqKFgA91Aw4cPx/Dhw/VdBgDtX6S6ZEy1EhERGRL+DDUcnMJBRERERKQBNtBERERERBpgA01EREREpAE20EREREREGmADTURERESkATbQREREREQaYANNRERERKQBiRCi+mbtpHWtWrVCmzZtdHqOzMxMuLi4GEUuM5lp6LnMNM1MXeUy0zQzdZWrq1rvdePGDdy+fVun5zBqgpqN4OBgo8llJjMNPZeZppmpq1xmmmamrnJ1VSvVH6dwEBERERFpgA00EREREZEG2EA3I9OnTzeaXGYy09BzmWmambrKZaZpZuoqV1e1Uv3xJkIiIiIiIg1wBJqIiIiISANsoImIiIiINMAGmogMli5mmKlUKq1nEpF28JonY8EG2oTp6puKLnKN5RugIb/34uJireTcKzk5GYWFhVrPPXnyJNLT0yGRSLSWuXfvXiQmJsLMzExrP6TLyspQVlYGwLA/97rO1AVjqRMw7M+TsVz3vOb/YchfT/QPC30XQE1n586d+Pvvv+Hk5IQnn3wS7du3hxCi0d+w/vzzT8TFxcHZ2RljxozRSm5sbCz27dsHW1tbhIWFoV27do3OvHjxIqRSKdq2bdvgjKaoc+fOnYiJiYG5uTmmTZuG9u3bN7rOuLg4LFq0CGvWrIG/v79Wfkj98ccfWLVqFb7++mvY2to2Oq/S77//jnfeeQeffvop3NzctJIZGxuLkSNH4tFHH8WmTZvg4ODQ6Mzt27dj48aNUCgUiIiIQGBgYKMzdXGN6uL6NJZrSRd1ArzutX3dm/I1DxjPdU9VcQTaRMTGxuKNN96Av78/LC0t0atXL/z111+QSCSN+pf5wYMHMXfuXLRr1w6FhYV49NFHceDAgUblbt++Ha+//jpkMhmys7Mxe/Zs3L59u1EX/vbt29G5c2d89913uHjxYoNzdF3njh07sGDBAnTp0gVCCPz3v/9VP9aYEYSsrCycO3cO33//PS5fvtzo0Zg//vgDixcvxvz58+Hu7l7lscbUmZycjDfffBNffPEFBg4cCCFEo2v9888/MX/+fHzyySfo2LEj5HI5AECpVDY4MzY2Fm+//TamTJmCfv36YdmyZerHGvr+dXGN6ur6NIZrSRd16qpWU77uTfmar8w1huueatAU2x2S/n3wwQfiv//9r/rjCRMmCB8fH3HixAkhhBBKpbJBuWvWrBEzZsxQf/zdd9+JLl26iIMHDzYoNyUlRQwfPlz89ddfQgghMjMzxZQpU0RiYmKD6hNCiNzcXPHaa6+JN998U8ydO1e8//774uLFiw3O01WdycnJ4umnnxZxcXFCCCG2bt0qXnzxRfHnn3+Kq1evCiEa/nm6cuWKmDJlipgyZYoYP368UCgU4tatW6K4uFjjrMzMTDF48GARHh4uhBAiOztbfPfdd+Kbb74Rly5dalSdly9fFqGhoUIIIeRyuZg3b54IDw8XO3fubFCtCQkJYuDAgeLAgQNCiIqv+3HjxjWotnu9//77YtmyZUIIIU6cOCHCwsLE8uXLG3U96eIa1fb1mZeXZxTXki6ueV3VaurXvSlf80IYx3VPNeMItImQSqVISUlR/+uzS5cuGDBgAMaNGwe5XA4zM82+FCpz/P39IYTA7du3AQBTp07F3LlzMXbsWFy9elXjXGdnZ0ybNg19+vQBALRq1Qo5OTnYu3dvledp8i9+GxsbzJgxAx9++CFmzJiBa9euYfPmzTh//nyDM52cnDB9+nT06tVLa3U6Oztj+fLlGDhwILKysvCf//wHBQUFOHz4MPr27YuEhIQGfZ5UKhWsra3RokULrFy5En5+fhgzZgxCQkKQnp6uUR4A2NvbY/bs2XBzc8PChQsRGhqKU6dO4fTp0xgwYADOnz+vcZ2V/Pz84Obmht27d2PKlCnw9fVFUFAQIiIiEBsbq3Geh4cHVq9ejX79+gEAvvzyS+Tn52PXrl0Nqq+Ss7MzLly4gG+//RYTJkyAp6cnioqKMH78eBw7dqxB71+b16iurk9bW1utX0vGcs0DvO51cd2b8jUPGMd1T7XQU+NOTeDKlSvi5s2bQoiK0YMBAwaISZMmiXHjxolhw4YJIYR49dVX1SMfDZGdnS2efPJJ8e677wohhFCpVEIIId58803xzTffNCizrKxMCPHPv5LfeOMNsX79eiGEENHR0SI1NbVeOVeuXBE3btwQpaWlVY6fP39eTJkyRbz//vsiNzdXbN68Wdy4caPemdevX69yrDK/MXVev369Sp0nTpwQMTEx6o8XLVok3nrrrXrlCSHE1atXxc2bN0VRUZH62KxZs0RGRobYv3+/aNGihXj00UfFnTt36p1ZWWfl53j79u3ikUceqTJ68uabb4p33nmn3pn31lpQUCCEEOLtt98W//rXv6qMoKxZs0Y8+eST1T6XD6r12rVrVZ5fWloqioqKxKuvviqWLl0qhPjn67W+mZXXU05Ojvj000/F/PnzRVhYmPo5y5YtExMmTKj3CI+ur1FtX58qlarK31ljrqV7GfI1X5nL6157170pX/P35xrDdU81402EzdRvv/2GDz74AI6OjujWrRuGDh2KXbt24ejRo7hz5w5GjBgBAMjNzVX/K7U+tm7divXr12Pz5s0AKkZkVqxYgbFjxwIAXnzxRXh4eMDMzAy3bt1qUGalyjmFLi4ucHR0xLZt2/DOO+9gy5YtGr3/4OBgBAQEYPLkyQCATp06Yf78+YiMjERYWBiOHj2KAwcOaJTZo0cPdOnSBZMnT4alpaXW6+zRowcAqG/6sLW1rfeo1v2ZHTt2xNSpUxEQEIBXX30VJ0+exJo1axATE4NFixbhyy+/hJWVVb0zg4KC0KtXL4wfPx7t27dHhw4d1HVaWVnB3Ny8XnXWlDtgwAAsWrQIL7/8Mk6ePIm9e/fiscceg52dHZydnRv0/iv/Ti0tLWFpaYlnn30WY8eOxYABAzBgwACNM7t164YBAwbg1Vdfxc2bN7Fy5Ur1+2/RogWcnJzqNR9WF9eorq9PiUSC8vJyWFhYQAjR4GvJWK75+3N53Tf+ujfla76mXEO97qke9Ni8k47k5OSIPn36iAMHDoi0tDTx66+/itGjR4sVK1ZUed53330nOnfuLK5du1av3BMnTgg/Pz/Rrl078eijj1Z5LCkpSYwZM0a8+OKLYvz48aJTp07i3LlzDc4sLy9X//njjz8WHh4eomfPnvXKrOn9jxs3rsqIiRBCLFy4ULi5uWktc9myZVqp89NPP63yvI0bN4qePXuKCxcuNChz7NixYtWqVSI9PV106dJF/Pzzz+rn12e0rKbMMWPGiC+//LLK8zZs2CCCg4PrVWdtuU8//bRYs2aNKC0tFW+++ab497//LSZMmCC6desmTp061aDMmj73b775pvjggw/UI5+aZo4dO1Z8/vnnory8XDzyyCNi5syZYt68eSI4OFicPXu2QZmNvUab8vqs/HurHNnS5Foylmu+vrm87ut/3ZvyNV9briFe91Q/bKCboYKCAjFmzBj1rxzz8/PFvn37RFhYmPpXjQkJCWLixIkiPj6+3rmHDh0Sv/zyixBCiOHDh4v+/ftXeTw7O1ucOXNGbNiwQVy5cqXRmZW/ivvxxx/FQw89JC5fvlyvzPq8f4VCIaZNmyZOnjzZ6Mwff/xRCCHEunXrRPv27bVa52+//SZCQkLq/Q26tswxY8aI//3vf+q/0/r+WrS+de7evVsMGTKk3nXWlhsXFyfGjh0rfv/9d6FUKkV6errYs2ePSEpK0lqtlfXK5fJGZY4dO1bs2rVLZGRkiM8++0x8+OGH9f7Hgy6u0aa+PisbkZycHDF16tR6X0vGcs3XlcvrXvPr3pSv+frWagjXPdUPG+hmauHCheKxxx4Tubm5QoiKu9I3bNggFi5cKIQQoqSkROTl5Wmcm5WVpf7ziBEjqlys9f3mpElmRkaGyMvL03he5YPef3l5uVAqlaKkpERrmZW13j9PsrGZlXfNayNzwYIForS0VKM5gPWtMycnR6Snp2st94033mjwneIPqlWTBqI+mfPmzWtQXl11CtGwa7Spr8/KJkfTv1djuebryq2sl9d94zNN4Zqvq1YhDOe6p7qxgW5mKr9JlpeXi1dffVWEh4erL9Tk5GQxaNCget/kUpt7v8mNGDFCDB06VPzwww9iypQpDWrKH5Q5adKkKjfEPMi9Nzg96P2npaXVu676ZqakpGg9U5NvfPXN1OSHsi7q1HetusjUxdeTJtfo/Y2RNq7P+mZOnjxZ5OfnazVTk2v+3lxtfY40ydXkuq9vZkOup7oyNW3Gm1OdusjU1ddTY3426+LnMj0Y1zJpBkpLS9V/rryRwdzcHK+++ipcXFwwbNgwXL58GXv27EFhYaH65hdNcu9177ao27dvx8WLF/Haa6/hlVdegb29vVYzX3/9dVhbWz8wMzs7G0DFe6/P+7ewqPveWU0zpVKp1jPrusGnIZn1udFHF3UaSq26yNTF11N9rtF7M+/VmOtT08xXX30VdnZ2Ws2szzVfk8Z+jhqSW5/rXtPM+l5PmmRqcmNvc6tTF5m6+nqq78/mmjTmuqcG0mf3To23c+dOsXLlSqFQKNTHKm/GuX79urh9+7Z4++23xQsvvCAGDhxY73lVNeVW/gv3+vXr6mWQ4uLiRPv27et1Y4IuMmNjY8X48eOrjAQ19v0zU7uZxlSrMWfq4loyxMxTp06JhIQE9eYdQmjna1QXucw0zcymrLWx1xM1HBtoI7Zz507h4eEhdu3apT5W+Wui3bt3i6FDh6ovtPLy8nrv6vSg3NjYWBEaGioSEhKEEEIcPHiwXncK6yIzOjpa+Pj4iHbt2olDhw4JIf75ZrJ3794GvX9majfTmGptDplxcXFav5YMKfP3338XgYGBYtKkSWL69OkiJSVFnRkbG9vgr1Fd5DLTNDP1UeuePXsadD1R47CBNkIqlUqUlZWJqVOninXr1gkhhLhz545ISUlRX5R9+/ZV35mrz1xd1bpt2zYRFBQkLly4INatWye6deum/td3bm6u6NOnj/j111+ZqcdMY6qVmYafeePGDREYGChOnjwpbt26JcLDw0VKSop6HunDDz8sNm3apFGmrnKZaZqZxlYrNQ4baCP2wQcfiL///lvk5+eLPn36iIkTJ4qBAweKn376Sf2chtx5Xd9cTbK1nbl48WKxc+dOIcQ/y1PdO7qdnZ2tzqwvZmo305hqbY6ZuriW9JmZkJAgBg0apM586KGHxJgxY8TEiROr7N6n6deoLnKZaZqZhlBrQ37mU8OwgTZClb+2Wbp0qRgwYIB4//33xffffy/Ky8vFkSNHRN++fTVa61SXubqqtVLlN4zXX39djBs3Tn383k0ZmKnfTGOqlZmGnRkSEiL69+8v3NzcxEcffSSSkpLUm1FcvXq1wc2DLnKZaZqZxlYrNRwbaCNy+fLlakvyTJ06Vbi4uIjjx49XOVY5F0pfubrOrPxmUdmgFxcXi759+4rVq1fXK4uZusk0plqZaVyZlc6fPy9mzpypPsft27fFM888o9G60brIZaZpZhpbraQ9XMbOSGzbtg2DBw/Ge++9h6SkJPXxlStXIjg4GC+99BIyMjLwww8/4OTJk5DJZHrLbYpMiUQCIQTMzMygUqkglUoxdepUXL58uV7vm5nazzSmWplpfJmVOnXqBDMzM8yePRsA8PfffyMpKaneS4DpIpeZpplpbLWSdkmEuLtwIBmsnJwcPP/88+jYsSNcXV2Rnp6OuXPnwsfHR/2cefPmQSqV4tixY/jvf/+LgIAAveQ2daYQQr2+7KFDhzBjxgz89ddfcHBwYGYTZhpTrcw07kwASExMxNy5c5Gfn4+cnBysX78egYGBD8zUVS4zTTPT2Gol7WMDbSSuX7+Oli1b4uLFi9i2bRuKioowZ84ctGnTpsrziouLNdqEQBe5+sis/EGdn59f70XjmandTGOqlZnGnwkAFy9eRKtWrdCqVat6Zeoql5mmmWlstZJ2sYE2YElJSXBzc0N5eXmV3b6OHDmCbdu2obi4GB9//DGOHz+Odu3a1ftC0kWuPjNPnjwJX19fuLi4VBnxYqbuM42pVmY2j8zly5fjxIkTaN++PVq0aFFrlq5zmWmamcZWK+mQNidUk/Zs375dBAQEiGnTpolnnnlGXLx4scrjhw8fFsuWLRN9+/YVjo6OIikpSW+5zDTNTGOqlZnNL/PmzZt1Zuoql5mmmWlstZJusYE2MCqVSiQlJYkuXbqIvXv3ilu3bomPP/5YuLu7V9uWc+7cuaJNmzbi7NmzesllpmlmGlOtzDTNTGOqlZmGn2lstVLTYANtgMrLy8W0adNESkqKermazz//XHh4eKh378vKyhJdu3bVaA1lXeQy0zQzjalWZppmpjHVykzDzzS2Wkn32EAbkMTERHH06FFx+/ZtERYWJj766KMqj3/00UciPDxcFBQUCCGEKCoq0lsuM00z05hqZaZpZhpTrcw0/Exjq5WaDhtoA/H777+LwMBA8eijj4rZs2eLbdu2CV9fX7FkyRL1c65fvy6mT5+u/ldqfXYe0kUuM00z05hqZaZpZhpTrcw0/Exjq5WaFhtoA3DgwAHh7++v/vXMtGnTxOLFi4VcLhfe3t7i/fffF4mJiWLNmjUiODhYZGVl6S2XmaaZaUy1MtM0M42pVmYafqax1UpNjw20AThw4IBYs2aN+uOMjAwxfPhwIYQQV69eFVOmTBEzZ84UwcHB4syZM3rNZaZpZhpTrcw0zUxjqpWZhp9pbLVS02MDbQDKy8tFTk6O+s/Jycmie/fuIjU1VQghxI0bN0RZWZlQKBR6z2WmaWYaU63MNM1MY6qVmYafaWy1UtMz0/c61ASYm5urt7YVQsDJyQnOzs5wd3fH+vXrsWTJEpSVlcHR0VHvucw0zUxjqpWZpplpTLUy0/Azja1Wanr/D+eaJirOpHm3AAAAAElFTkSuQmCC style='width=auto;height:auto'><div>\n"
          },
          "metadata": {}
        }
      ],
      "execution_count": null
    },
    {
      "cell_type": "code",
      "metadata": {},
      "source": [
        "%spark.pyspark\r\n",
        "from pyspark.sql.window import Window\r\n",
        "from pyspark.sql.functions import lead\r\n",
        "\r\n",
        "\r\n",
        "window_spec = Window.orderBy(\"year_month\")\r\n",
        "df_ml = df_filtered.withColumn(\r\n",
        "    \"next_month_revenue\", lead(\"total_revenue\").over(window_spec)\r\n",
        ")\r\n",
        "\r\n",
        "\r\n",
        "df_ml = df_ml.na.drop(subset=[\"next_month_revenue\"])\r\n",
        "\r\n",
        "df_ml.show(5)\r\n"
      ],
      "outputs": [
        {
          "output_type": "stream",
          "name": "stdout",
          "text": [
            "+----------+------------------+------------------+\n",
            "|year_month|     total_revenue|next_month_revenue|\n",
            "+----------+------------------+------------------+\n",
            "|   2017-01|120312.87000000032| 247303.0199999985|\n",
            "|   2017-02| 247303.0199999985|374344.29999999516|\n",
            "|   2017-03|374344.29999999516| 359927.2299999956|\n",
            "|   2017-04| 359927.2299999956| 506071.1399999948|\n",
            "|   2017-05| 506071.1399999948| 433038.5999999939|\n",
            "+----------+------------------+------------------+\n",
            "only showing top 5 rows\n",
            "\n"
          ]
        }
      ],
      "execution_count": null
    },
    {
      "cell_type": "code",
      "metadata": {},
      "source": [
        "%spark.pyspark\n",
        "from pyspark.sql.functions import split, col\n",
        "\n",
        "df_ml = df_ml.withColumn(\"year\", split(col(\"year_month\"), \"-\")[0].cast(\"int\"))\n",
        "df_ml = df_ml.withColumn(\"month\", split(col(\"year_month\"), \"-\")[1].cast(\"int\"))\n",
        "\n",
        "df_ml.select(\"year_month\", \"year\", \"month\", \"total_revenue\", \"next_month_revenue\").show(5)\n"
      ],
      "outputs": [
        {
          "output_type": "stream",
          "name": "stdout",
          "text": [
            "+----------+----+-----+------------------+------------------+\n",
            "|year_month|year|month|     total_revenue|next_month_revenue|\n",
            "+----------+----+-----+------------------+------------------+\n",
            "|   2017-01|2017|    1|120312.87000000032| 247303.0199999985|\n",
            "|   2017-02|2017|    2| 247303.0199999985|374344.29999999516|\n",
            "|   2017-03|2017|    3|374344.29999999516| 359927.2299999956|\n",
            "|   2017-04|2017|    4| 359927.2299999956| 506071.1399999948|\n",
            "|   2017-05|2017|    5| 506071.1399999948| 433038.5999999939|\n",
            "+----------+----+-----+------------------+------------------+\n",
            "only showing top 5 rows\n",
            "\n"
          ]
        }
      ],
      "execution_count": null
    },
    {
      "cell_type": "code",
      "metadata": {},
      "source": [
        "%spark.pyspark\r\n",
        "from pyspark.ml.feature import VectorAssembler\r\n",
        "\r\n",
        "feature_cols = [\"year\", \"month\", \"total_revenue\"]\r\n",
        "assembler = VectorAssembler(inputCols=feature_cols, outputCol=\"features\")\r\n",
        "\r\n",
        "df_final = assembler.transform(df_ml).select(\"features\", \"next_month_revenue\")\r\n",
        "\r\n",
        "df_final.show(5, truncate=False)\r\n"
      ],
      "outputs": [
        {
          "output_type": "stream",
          "name": "stdout",
          "text": [
            "+-------------------------------+------------------+\n",
            "|features                       |next_month_revenue|\n",
            "+-------------------------------+------------------+\n",
            "|[2017.0,1.0,120312.87000000032]|247303.0199999985 |\n",
            "|[2017.0,2.0,247303.0199999985] |374344.29999999516|\n",
            "|[2017.0,3.0,374344.29999999516]|359927.2299999956 |\n",
            "|[2017.0,4.0,359927.2299999956] |506071.1399999948 |\n",
            "|[2017.0,5.0,506071.1399999948] |433038.5999999939 |\n",
            "+-------------------------------+------------------+\n",
            "only showing top 5 rows\n",
            "\n"
          ]
        }
      ],
      "execution_count": null
    },
    {
      "cell_type": "code",
      "metadata": {},
      "source": [
        "%spark.pyspark\n",
        "train_df, test_df = df_final.randomSplit([0.7, 0.3], seed=42)\n",
        "\n",
        "print(\"Treino:\", train_df.count())\n",
        "print(\"Teste:\", test_df.count())\n"
      ],
      "outputs": [
        {
          "output_type": "stream",
          "name": "stdout",
          "text": [
            "Treino: 12\n",
            "Teste: 7\n"
          ]
        }
      ],
      "execution_count": null
    },
    {
      "cell_type": "code",
      "metadata": {},
      "source": [
        "%spark.pyspark\n",
        "from pyspark.ml.regression import LinearRegression\n",
        "\n",
        "lr = LinearRegression(featuresCol=\"features\", labelCol=\"next_month_revenue\")\n",
        "lr_model = lr.fit(train_df)\n",
        "\n",
        "print(\"Coeficientes:\", lr_model.coefficients)\n",
        "print(\"Intercepto:\", lr_model.intercept)\n"
      ],
      "outputs": [
        {
          "output_type": "stream",
          "name": "stdout",
          "text": [
            "Coeficientes: [266550.7710397282,33525.63246368134,0.22758386020112162]\n",
            "Intercepto: -537404752.1285872\n"
          ]
        }
      ],
      "execution_count": null
    },
    {
      "cell_type": "code",
      "metadata": {},
      "source": [
        "%spark.pyspark\n",
        "from pyspark.ml.evaluation import RegressionEvaluator\n",
        "\n",
        "# Previs\u00f5es\n",
        "train_pred = lr_model.transform(train_df)\n",
        "test_pred = lr_model.transform(test_df)\n",
        "\n",
        "# M\u00e9tricas\n",
        "evaluator = RegressionEvaluator(labelCol=\"next_month_revenue\", predictionCol=\"prediction\")\n",
        "\n",
        "rmse_train = evaluator.evaluate(train_pred, {evaluator.metricName: \"rmse\"})\n",
        "rmse_test = evaluator.evaluate(test_pred, {evaluator.metricName: \"rmse\"})\n",
        "\n",
        "r2_train = evaluator.evaluate(train_pred, {evaluator.metricName: \"r2\"})\n",
        "r2_test = evaluator.evaluate(test_pred, {evaluator.metricName: \"r2\"})\n",
        "\n",
        "print(f\"Treino -> RMSE: {rmse_train:.2f}, R\u00b2: {r2_train:.2f}\")\n",
        "print(f\"Teste  -> RMSE: {rmse_test:.2f}, R\u00b2: {r2_test:.2f}\")\n"
      ],
      "outputs": [
        {
          "output_type": "stream",
          "name": "stdout",
          "text": [
            "Treino -> RMSE: 70248.52, R\u00b2: 0.90\n",
            "Teste  -> RMSE: 166650.10, R\u00b2: 0.54\n"
          ]
        }
      ],
      "execution_count": null
    },
    {
      "cell_type": "code",
      "metadata": {},
      "source": [
        "%spark.pyspark\n",
        "from pyspark.sql.functions import lag\n",
        "\n",
        "\n",
        "window_spec = Window.orderBy(\"year_month\")\n",
        "df_ml = df_ml.withColumn(\"prev_revenue\", lag(\"total_revenue\").over(window_spec))\n",
        "\n",
        "\n",
        "df_ml = df_ml.withColumn(\n",
        "    \"pct_change\", \n",
        "    ((col(\"total_revenue\") - col(\"prev_revenue\")) / col(\"prev_revenue\")) * 100\n",
        ")\n",
        "\n",
        "\n",
        "df_ml = df_ml.na.fill({\"prev_revenue\": 0, \"pct_change\": 0})\n",
        "\n",
        "\n",
        "feature_cols = [\"year\", \"month\", \"total_revenue\", \"pct_change\"]\n",
        "assembler = VectorAssembler(inputCols=feature_cols, outputCol=\"features\")\n",
        "\n",
        "df_final2 = assembler.transform(df_ml).select(\"features\", \"next_month_revenue\")\n",
        "\n",
        "\n",
        "train_df2, test_df2 = df_final2.randomSplit([0.8, 0.2], seed=42)\n",
        "\n",
        "\n",
        "lr2 = LinearRegression(featuresCol=\"features\", labelCol=\"next_month_revenue\")\n",
        "lr_model2 = lr2.fit(train_df2)\n",
        "\n",
        "\n",
        "train_pred2 = lr_model2.transform(train_df2)\n",
        "test_pred2 = lr_model2.transform(test_df2)\n",
        "\n",
        "rmse_test2 = evaluator.evaluate(test_pred2, {evaluator.metricName: \"rmse\"})\n",
        "r2_test2 = evaluator.evaluate(test_pred2, {evaluator.metricName: \"r2\"})\n",
        "\n",
        "print(f\"Novo modelo -> RMSE: {rmse_test2:.2f}, R\u00b2: {r2_test2:.2f}\")\n"
      ],
      "outputs": [
        {
          "output_type": "stream",
          "name": "stdout",
          "text": [
            "Novo modelo -> RMSE: 91864.94, R\u00b2: 0.83\n"
          ]
        }
      ],
      "execution_count": null
    },
    {
      "cell_type": "code",
      "metadata": {},
      "source": [
        "%sh\n"
      ],
      "outputs": [],
      "execution_count": null
    }
  ],
  "metadata": {},
  "nbformat": 4,
  "nbformat_minor": 5
}